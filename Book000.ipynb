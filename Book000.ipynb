{
 "cells": [
  {
   "cell_type": "markdown",
   "id": "bc71c82b",
   "metadata": {},
   "source": [
    "Source https://www.gutenberg.org/ebooks/00\n",
    "\n",
    "Ref https://en.wikipedia.org/wiki/00"
   ]
  },
  {
   "cell_type": "code",
   "execution_count": null,
   "id": "8e0fc48f",
   "metadata": {},
   "outputs": [],
   "source": [
    "# Concept art\n",
    "\n",
    "Summary: \n",
    "\n",
    "Genre: \n",
    "\n",
    "Background: \n",
    "\n",
    "Main charactor:\n",
    "\n",
    "Prompt:\n",
    "Main charactor + Background + Summary\n",
    "--ar 3:2 --no text\n",
    "\n",
    "\n",
    "=== GPT4 ===\n",
    "As image prompt generator, write prompt to generate cover image of book 'xxx' following steps below\n",
    "- Suggest 5 options of the cover images, wait for me to confirm\n",
    "- Suggest art style eg classic art, ultra-realistic, photorealism, cartoon, japanese anime, classic movie, classic photo, illustration, black and white and others as you see fit , wait for me to confirm\n",
    "- Suggest composition eg cinematic still, close up short, close up short, full body short, landscape and others as you see fit , wait for me to confirm\n",
    "- list keys elements of the image to explain scene / subject / action / setting, at least should include: era, main character, scene, evant detail, location, time of the day, atmosphere and others as you see fit\n",
    "- explain each element in detail according to choices above\n",
    "- Do not use charactors name, describe them by their visual instead\n",
    "- wait for feedback and confirm before continue to next step\n",
    "- generate prompt from explanations above start from art style, composition, era and all elements above in full detail with comma separated\n",
    "- end with ' use Midjourney v5,  --ar 16:9 --no text'"
   ]
  },
  {
   "cell_type": "code",
   "execution_count": null,
   "id": "0229b767",
   "metadata": {},
   "outputs": [],
   "source": [
    "# Youtube description\n",
    "\n",
    "Prompt: Write title, description, and keywords of youtube video of full audiobook of the classic book \"xxxx\"\n",
    "    \n",
    "Title: \n",
    "    \n",
    "Description:\n",
    "\n",
    "Keywords: \n",
    "\n",
    "0:00:00 Chapter 1\n",
    "0:13:05 Chaptor 2\n",
    "0:26:26 Chaptor 3\n",
    "0:37:47 Chaptor 4\n",
    "0:54:16 Chaptor 5\n",
    "1:08:12 Chaptor 6\n",
    "1:24:26 Chaptor 7\n",
    "1:39:41 Chaptor 8\n",
    "1:55:37 Chaptor 9\n",
    "2:10:48 Chaptor 10\n",
    "2:25:00 Chaptor 11\n",
    "2:37:10 Chaptor 12\n",
    "        \n",
    "Credits\n",
    "Text: Project Gutenberg https://www.gutenberg.org/ebooks/00\n",
    "Voice: Google Cloud Text-to-Speech\n",
    "Produced by: The Classic Narrator 2023"
   ]
  },
  {
   "cell_type": "code",
   "execution_count": null,
   "id": "77a554fb",
   "metadata": {},
   "outputs": [],
   "source": [
    "# Voice test\n",
    "\n",
    "from TextToAudiobook import *\n",
    "test_tta = TextToAudiobook(\"test\")\n",
    "\n",
    "\n",
    "\n",
    "text = '''\n",
    "\n",
    "xxxx\n",
    "\n",
    "'''\n",
    "\n",
    "# Test voices\n",
    "voice = texttospeech.VoiceSelectionParams(\n",
    "    language_code=\"en-GB\",\n",
    "    name=\"en-GB-Neural2-A\",\n",
    ")\n",
    "\n",
    "voice = texttospeech.VoiceSelectionParams(\n",
    "    language_code=\"en-GB\",\n",
    "    name=\"en-GB-Standard-A\",\n",
    ")\n",
    "\n",
    "\n",
    "audio_config = texttospeech.AudioConfig(\n",
    "    audio_encoding=texttospeech.AudioEncoding.MP3,\n",
    "    speaking_rate=0.9\n",
    ")\n",
    "\n",
    "test_tta.synthesize_ssml(text, \"output.mp3\", voice, audio_config)\n",
    "# test_tta.synthesize_text(text, \"output.mp3\", voice, audio_config)\n",
    "\n"
   ]
  },
  {
   "cell_type": "code",
   "execution_count": null,
   "id": "0326b8d9",
   "metadata": {},
   "outputs": [],
   "source": [
    "%load_ext autoreload\n",
    "%reload_ext autoreload\n",
    "%autoreload 2"
   ]
  },
  {
   "cell_type": "code",
   "execution_count": null,
   "id": "c3793734",
   "metadata": {},
   "outputs": [],
   "source": [
    "# Text to script\n",
    "\n",
    "from TextToAudiobook import *\n",
    "\n",
    "folder_name = \"AliceInWonderland\"\n",
    "file_name = \"11-1.txt\"\n",
    "\n",
    "test_tta = TextToAudiobook(folder_name, char_limit_per_call=2000)"
   ]
  },
  {
   "cell_type": "code",
   "execution_count": null,
   "id": "4b63cb09",
   "metadata": {},
   "outputs": [],
   "source": [
    "#1 Clean raw file and copy to clean folder\n",
    "print(test_tta.clean_txt_raw(file_name))\n",
    "\n",
    "#2 Tag speech in clean file and copy to tag folder\n",
    "print(test_tta.tag_txt_clean(file_name))\n",
    "\n",
    "#3 Mark break point by chapter and characters limit\n",
    "print(test_tta.break_txt_tag(file_name))\n",
    "\n",
    "#4 Split into files by chapter and characters break\n",
    "print(test_tta.split_txt_break(file_name))"
   ]
  },
  {
   "cell_type": "code",
   "execution_count": null,
   "id": "750cd4eb",
   "metadata": {},
   "outputs": [],
   "source": [
    "# Split into files by chapter and characters break\n",
    "voice = texttospeech.VoiceSelectionParams(\n",
    "    language_code=\"en-GB\",\n",
    "    name=\"en-GB-Neural2-A\",\n",
    ")\n",
    "\n",
    "audio_config = texttospeech.AudioConfig(\n",
    "    audio_encoding=texttospeech.AudioEncoding.MP3,\n",
    "    speaking_rate=0.8\n",
    ")\n",
    "print(test_tta.synthesize_txt_split(file_name, file_limit=20, voice=voice, audio_config=audio_config))\n"
   ]
  },
  {
   "cell_type": "code",
   "execution_count": null,
   "id": "ab7994d6",
   "metadata": {},
   "outputs": [],
   "source": [
    "# Merge audio files => full length\n",
    "print(test_tta.merge_audio_files(file_name))"
   ]
  },
  {
   "cell_type": "code",
   "execution_count": null,
   "id": "b382e4e1",
   "metadata": {},
   "outputs": [],
   "source": [
    "# Audio + Image => Video\n",
    "print(test_tta.merge_video_file(file_name))"
   ]
  },
  {
   "cell_type": "code",
   "execution_count": null,
   "id": "004bc195",
   "metadata": {},
   "outputs": [],
   "source": [
    "print(test_tta.gen_youtube_chapter_marker(file_name))"
   ]
  },
  {
   "cell_type": "code",
   "execution_count": null,
   "id": "a692882a",
   "metadata": {},
   "outputs": [],
   "source": []
  }
 ],
 "metadata": {
  "kernelspec": {
   "display_name": "Python tts env",
   "language": "python",
   "name": "tts_env"
  },
  "language_info": {
   "codemirror_mode": {
    "name": "ipython",
    "version": 3
   },
   "file_extension": ".py",
   "mimetype": "text/x-python",
   "name": "python",
   "nbconvert_exporter": "python",
   "pygments_lexer": "ipython3",
   "version": "3.9.12"
  }
 },
 "nbformat": 4,
 "nbformat_minor": 5
}
