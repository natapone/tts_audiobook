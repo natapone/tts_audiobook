{
 "cells": [
  {
   "cell_type": "markdown",
   "id": "52035b7f",
   "metadata": {},
   "source": [
    "Source: https://www.gutenberg.org/ebooks/4507\n"
   ]
  },
  {
   "cell_type": "code",
   "execution_count": 25,
   "id": "b5826ad0",
   "metadata": {},
   "outputs": [
    {
     "name": "stdout",
     "output_type": "stream",
     "text": [
      "The autoreload extension is already loaded. To reload it, use:\n",
      "  %reload_ext autoreload\n"
     ]
    }
   ],
   "source": [
    "%load_ext autoreload\n",
    "%reload_ext autoreload\n",
    "%autoreload 2"
   ]
  },
  {
   "cell_type": "code",
   "execution_count": 26,
   "id": "cd7a2fd2",
   "metadata": {},
   "outputs": [],
   "source": [
    "from TextToAudiobook import *\n",
    "\n",
    "test_tta = TextToAudiobook(\"AsaManThinketh\", char_limit_per_call=4000)\n",
    "file_name = \"4507-1.txt\""
   ]
  },
  {
   "cell_type": "code",
   "execution_count": 27,
   "id": "e4af336c",
   "metadata": {},
   "outputs": [
    {
     "name": "stdout",
     "output_type": "stream",
     "text": [
      "Clean: 904 lines\n",
      "./AsaManThinketh/project_file/clean/4507-1.txt\n"
     ]
    }
   ],
   "source": [
    "# Clean raw file and copy to clean folder\n",
    "print(test_tta.clean_txt_raw(file_name))"
   ]
  },
  {
   "cell_type": "code",
   "execution_count": 28,
   "id": "00e0cf71",
   "metadata": {},
   "outputs": [
    {
     "name": "stdout",
     "output_type": "stream",
     "text": [
      "Tag: 904 lines\n",
      "./AsaManThinketh/project_file/tag/4507-1.txt\n"
     ]
    }
   ],
   "source": [
    "# Tag speech in clean file and copy to tag folder\n",
    "print(test_tta.tag_txt_clean(file_name))"
   ]
  },
  {
   "cell_type": "code",
   "execution_count": 29,
   "id": "e59a7b9c",
   "metadata": {},
   "outputs": [
    {
     "name": "stdout",
     "output_type": "stream",
     "text": [
      "Break: 904 lines\n",
      "./AsaManThinketh/project_file/break/4507-1.txt\n"
     ]
    }
   ],
   "source": [
    "# Mark break point by chapter and characters limit\n",
    "print(test_tta.break_txt_tag(file_name))"
   ]
  },
  {
   "cell_type": "code",
   "execution_count": 30,
   "id": "f909cf82",
   "metadata": {},
   "outputs": [
    {
     "name": "stdout",
     "output_type": "stream",
     "text": [
      "Split: 16 files\n",
      "./AsaManThinketh/project_file/split/4507-1_txt/\n"
     ]
    }
   ],
   "source": [
    "# Split into files by chapter and characters break\n",
    "print(test_tta.split_txt_break(file_name))"
   ]
  },
  {
   "cell_type": "code",
   "execution_count": 32,
   "id": "dc07308a",
   "metadata": {},
   "outputs": [
    {
     "name": "stdout",
     "output_type": "stream",
     "text": [
      "Generate audio => ./AsaManThinketh/project_file/audio/4507-1_txt/0002_003.mp3\n",
      "Generate audio => ./AsaManThinketh/project_file/audio/4507-1_txt/0002_004.mp3\n",
      "Generate audio => ./AsaManThinketh/project_file/audio/4507-1_txt/0002_005.mp3\n",
      "Generate audio => ./AsaManThinketh/project_file/audio/4507-1_txt/0003_001.mp3\n",
      "Generate audio => ./AsaManThinketh/project_file/audio/4507-1_txt/0004_001.mp3\n",
      "Generate audio => ./AsaManThinketh/project_file/audio/4507-1_txt/0004_002.mp3\n",
      "Generate audio => ./AsaManThinketh/project_file/audio/4507-1_txt/0005_001.mp3\n",
      "Generate audio => ./AsaManThinketh/project_file/audio/4507-1_txt/0005_002.mp3\n",
      "Generate audio => ./AsaManThinketh/project_file/audio/4507-1_txt/0006_001.mp3\n",
      "Generate audio => ./AsaManThinketh/project_file/audio/4507-1_txt/0006_002.mp3\n",
      "Generate audio => ./AsaManThinketh/project_file/audio/4507-1_txt/0007_001.mp3\n",
      "Synthesize: 11 files\n",
      "./AsaManThinketh/project_file/audio/4507-1_txt/\n"
     ]
    }
   ],
   "source": [
    "# Split into files by chapter and characters break\n",
    "voice = texttospeech.VoiceSelectionParams(\n",
    "    language_code=\"en-GB\",\n",
    "    name=\"en-GB-News-K\"\n",
    ")\n",
    "\n",
    "audio_config = texttospeech.AudioConfig(\n",
    "    audio_encoding=texttospeech.AudioEncoding.MP3,\n",
    "    speaking_rate=0.75\n",
    ")\n",
    "print(test_tta.synthesize_txt_split(file_name, file_limit=50, voice=voice, audio_config=audio_config))\n"
   ]
  },
  {
   "cell_type": "markdown",
   "id": "e75e7b40",
   "metadata": {},
   "source": [
    "Around the World in Eighty Days, an adventure novel by the French writer Jules Verne, first published in French in 1872.\n",
    "\n",
    "In the story: Phileas Fogg of London and his newly employed French valet Passepartout attempt to travel around the world in 80 days on a wager of £20,000 set by his friends at the Reform Club.\n",
    "\n",
    "Credits\n",
    "Text: Project Gutenberg https://www.gutenberg.org/ebooks/103\n",
    "Voice: Google Cloud Text-to-Speech\n",
    "Produced by: The Classic Narrator 2023\n",
    "\n",
    "====\n",
    "\n",
    "Audiobook: The Great Gatsby\n",
    "\n",
    "1925 novel by American writer F. Scott Fitzgerald. Set in the Jazz Age on Long Island, near New York City\n",
    "\n",
    "====\n",
    "\n",
    "Title: \"The Great Gatsby Audiobook - Full Audiobook by F. Scott Fitzgerald (Narrated by Text-to-Speech)\"\n",
    "\n",
    "Description: \"Experience the classic novel of the Roaring Twenties like never before with this full audiobook of F. Scott Fitzgerald's The Great Gatsby, brought to life by AI narrator. Follow the story of Jay Gatsby and his doomed love for the beautiful Daisy Buchanan as you listen to this version of the novel. Perfect for long commutes, road trips, or just a relaxing listen at home. \n",
    "\n",
    "Search for keywords such as \"Great Gatsby audiobook\" \"F. Scott Fitzgerald audiobook\" \"Gatsby novel audiobook\" \"Roaring Twenties audiobook\" \"text-to-speech audiobook\" to find this recording.\"\n",
    "\n",
    "\n",
    "Great Gatsby audiobook,F. Scott Fitzgerald audiobook, Classic literature, Drama, Tragedy, classic literature, long car rides\n",
    "\n",
    "\n",
    "--Title and description from ChatGPT--\n",
    "\n",
    "Write title, description, and keywords of youtube video of audiobook of the classic book \"As a man Thinketh\"\n",
    "\n",
    "Title: \"As a Man Thinketh: Audiobook Edition\"\n",
    "\n",
    "Description: \"Experience the timeless wisdom of James Allen's classic self-help book, \"As a Man Thinketh,\" in this audiobook edition. Let the powerful words and teachings of Allen guide you on your journey to personal growth and self-discovery. Listen to the audiobook at your convenience and take the first step towards shaping your thoughts and creating the life you desire.\n",
    "\n",
    "Keywords: As a Man Thinketh, James Allen, self-help, personal growth, self-discovery, audiobook, classic literature, personal development, shaping thoughts, creating life, wisdom, inspiration.\n",
    "\n",
    "\n",
    "Tag = Personal development"
   ]
  },
  {
   "cell_type": "code",
   "execution_count": 22,
   "id": "fa6df99c",
   "metadata": {},
   "outputs": [
    {
     "name": "stdout",
     "output_type": "stream",
     "text": [
      "Generate audio => output_0.mp3\n"
     ]
    },
    {
     "data": {
      "text/plain": [
       "1"
      ]
     },
     "execution_count": 22,
     "metadata": {},
     "output_type": "execute_result"
    }
   ],
   "source": [
    "# Test voice\n",
    "\n",
    "from TextToAudiobook import *\n",
    "test_tta = TextToAudiobook(\"test\")\n",
    "\n",
    "text = '''\n",
    "<speak>\n",
    "<prosody rate=\"slow\">Title: As a Man Thinketh</prosody>\n",
    "<break time=\"600ms\"/>\n",
    "<prosody rate=\"slow\">Author: James Allen</prosody>\n",
    "<break time=\"600ms\"/>\n",
    "<prosody rate=\"slow\">Produced by: The Classic Narrator 2023</prosody>\n",
    "<break time=\"600ms\"/>\n",
    "\n",
    "Mind is the Master power that moulds and makes,\n",
    "And Man is Mind, and evermore he takes\n",
    "The tool of Thought, and, shaping what he wills,\n",
    "Brings forth a thousand joys, a thousand ills:--\n",
    "He thinks in secret, and it comes to pass:\n",
    "Environment is but his looking-glass.\n",
    "<break time=\"600ms\"/>\n",
    "<break time=\"600ms\"/>\n",
    "FOREWORD\n",
    "<break time=\"600ms\"/>\n",
    "<break time=\"600ms\"/>\n",
    "THIS little volume (the result of meditation and experience) is not\n",
    "intended as an exhaustive treatise on the much-written-upon subject\n",
    "of the power of thought. It is suggestive rather than explanatory,\n",
    "its object being to stimulate men and women to the discovery and\n",
    "perception of the truth that--\n",
    "</speak>\n",
    "'''\n",
    "\n",
    "\n",
    "\n",
    "voice = texttospeech.VoiceSelectionParams(\n",
    "    language_code=\"en-GB\",\n",
    "    name=\"en-GB-News-K\"\n",
    ")\n",
    "\n",
    "audio_config = texttospeech.AudioConfig(\n",
    "    audio_encoding=texttospeech.AudioEncoding.MP3,\n",
    "    speaking_rate=0.75\n",
    ")\n",
    "test_tta.synthesize_ssml(text, \"output_0.mp3\", voice, audio_config)"
   ]
  }
 ],
 "metadata": {
  "kernelspec": {
   "display_name": "Python 3 (ipykernel)",
   "language": "python",
   "name": "python3"
  },
  "language_info": {
   "codemirror_mode": {
    "name": "ipython",
    "version": 3
   },
   "file_extension": ".py",
   "mimetype": "text/x-python",
   "name": "python",
   "nbconvert_exporter": "python",
   "pygments_lexer": "ipython3",
   "version": "3.9.12"
  }
 },
 "nbformat": 4,
 "nbformat_minor": 5
}
