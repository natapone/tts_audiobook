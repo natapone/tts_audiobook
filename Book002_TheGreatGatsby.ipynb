{
 "cells": [
  {
   "cell_type": "markdown",
   "id": "52035b7f",
   "metadata": {},
   "source": [
    "Source: https://www.gutenberg.org/ebooks/64317\n"
   ]
  },
  {
   "cell_type": "code",
   "execution_count": 1,
   "id": "b5826ad0",
   "metadata": {},
   "outputs": [],
   "source": [
    "%load_ext autoreload\n",
    "%reload_ext autoreload\n",
    "%autoreload 2"
   ]
  },
  {
   "cell_type": "code",
   "execution_count": 1,
   "id": "cd7a2fd2",
   "metadata": {},
   "outputs": [],
   "source": [
    "from TextToAudiobook import *\n",
    "\n",
    "test_tta = TextToAudiobook(\"TheGreatGatsby\", char_limit_per_call=4000)\n",
    "file_name = \"64317-1.txt\""
   ]
  },
  {
   "cell_type": "code",
   "execution_count": 20,
   "id": "e4af336c",
   "metadata": {},
   "outputs": [
    {
     "name": "stdout",
     "output_type": "stream",
     "text": [
      "Clean: 6394 lines\n",
      "./TheGreatGatsby/project_file/clean/64317-1.txt\n"
     ]
    }
   ],
   "source": [
    "# Clean raw file and copy to clean folder\n",
    "print(test_tta.clean_txt_raw(file_name))"
   ]
  },
  {
   "cell_type": "code",
   "execution_count": 21,
   "id": "00e0cf71",
   "metadata": {},
   "outputs": [
    {
     "name": "stdout",
     "output_type": "stream",
     "text": [
      "Tag: 6394 lines\n",
      "./TheGreatGatsby/project_file/tag/64317-1.txt\n"
     ]
    }
   ],
   "source": [
    "# Tag speech in clean file and copy to tag folder\n",
    "print(test_tta.tag_txt_clean(file_name))"
   ]
  },
  {
   "cell_type": "code",
   "execution_count": 22,
   "id": "e59a7b9c",
   "metadata": {},
   "outputs": [
    {
     "name": "stdout",
     "output_type": "stream",
     "text": [
      "Break: 6394 lines\n",
      "./TheGreatGatsby/project_file/break/64317-1.txt\n"
     ]
    }
   ],
   "source": [
    "# Mark break point by chapter and characters limit\n",
    "print(test_tta.break_txt_tag(file_name))"
   ]
  },
  {
   "cell_type": "code",
   "execution_count": 23,
   "id": "f909cf82",
   "metadata": {},
   "outputs": [
    {
     "name": "stdout",
     "output_type": "stream",
     "text": [
      "Split: 89 files\n",
      "./TheGreatGatsby/project_file/split/64317-1_txt/\n"
     ]
    }
   ],
   "source": [
    "# Split into files by chapter and characters break\n",
    "print(test_tta.split_txt_break(file_name))"
   ]
  },
  {
   "cell_type": "code",
   "execution_count": 26,
   "id": "dc07308a",
   "metadata": {},
   "outputs": [
    {
     "name": "stdout",
     "output_type": "stream",
     "text": [
      "Generate audio => ./TheGreatGatsby/project_file/audio/64317-1_txt/0007_001.mp3\n",
      "Generate audio => ./TheGreatGatsby/project_file/audio/64317-1_txt/0007_002.mp3\n",
      "Generate audio => ./TheGreatGatsby/project_file/audio/64317-1_txt/0007_003.mp3\n",
      "Generate audio => ./TheGreatGatsby/project_file/audio/64317-1_txt/0007_004.mp3\n",
      "Generate audio => ./TheGreatGatsby/project_file/audio/64317-1_txt/0007_005.mp3\n",
      "Generate audio => ./TheGreatGatsby/project_file/audio/64317-1_txt/0007_006.mp3\n",
      "Generate audio => ./TheGreatGatsby/project_file/audio/64317-1_txt/0007_007.mp3\n",
      "Generate audio => ./TheGreatGatsby/project_file/audio/64317-1_txt/0007_008.mp3\n",
      "Generate audio => ./TheGreatGatsby/project_file/audio/64317-1_txt/0007_009.mp3\n",
      "Generate audio => ./TheGreatGatsby/project_file/audio/64317-1_txt/0007_010.mp3\n",
      "Generate audio => ./TheGreatGatsby/project_file/audio/64317-1_txt/0007_011.mp3\n",
      "Generate audio => ./TheGreatGatsby/project_file/audio/64317-1_txt/0007_012.mp3\n",
      "Generate audio => ./TheGreatGatsby/project_file/audio/64317-1_txt/0007_013.mp3\n",
      "Generate audio => ./TheGreatGatsby/project_file/audio/64317-1_txt/0007_014.mp3\n",
      "Generate audio => ./TheGreatGatsby/project_file/audio/64317-1_txt/0007_015.mp3\n",
      "Generate audio => ./TheGreatGatsby/project_file/audio/64317-1_txt/0007_016.mp3\n",
      "Generate audio => ./TheGreatGatsby/project_file/audio/64317-1_txt/0007_017.mp3\n",
      "Generate audio => ./TheGreatGatsby/project_file/audio/64317-1_txt/0008_001.mp3\n",
      "Generate audio => ./TheGreatGatsby/project_file/audio/64317-1_txt/0008_002.mp3\n",
      "Generate audio => ./TheGreatGatsby/project_file/audio/64317-1_txt/0008_003.mp3\n",
      "Generate audio => ./TheGreatGatsby/project_file/audio/64317-1_txt/0008_004.mp3\n",
      "Generate audio => ./TheGreatGatsby/project_file/audio/64317-1_txt/0008_005.mp3\n",
      "Generate audio => ./TheGreatGatsby/project_file/audio/64317-1_txt/0008_006.mp3\n",
      "Generate audio => ./TheGreatGatsby/project_file/audio/64317-1_txt/0008_007.mp3\n",
      "Generate audio => ./TheGreatGatsby/project_file/audio/64317-1_txt/0008_008.mp3\n",
      "Generate audio => ./TheGreatGatsby/project_file/audio/64317-1_txt/0009_001.mp3\n",
      "Generate audio => ./TheGreatGatsby/project_file/audio/64317-1_txt/0009_002.mp3\n",
      "Generate audio => ./TheGreatGatsby/project_file/audio/64317-1_txt/0009_003.mp3\n",
      "Generate audio => ./TheGreatGatsby/project_file/audio/64317-1_txt/0009_004.mp3\n",
      "Generate audio => ./TheGreatGatsby/project_file/audio/64317-1_txt/0009_005.mp3\n",
      "Generate audio => ./TheGreatGatsby/project_file/audio/64317-1_txt/0009_006.mp3\n",
      "Generate audio => ./TheGreatGatsby/project_file/audio/64317-1_txt/0009_007.mp3\n",
      "Generate audio => ./TheGreatGatsby/project_file/audio/64317-1_txt/0009_008.mp3\n",
      "Generate audio => ./TheGreatGatsby/project_file/audio/64317-1_txt/0009_009.mp3\n",
      "Synthesize: 34 files\n",
      "./TheGreatGatsby/project_file/audio/64317-1_txt/\n"
     ]
    }
   ],
   "source": [
    "# Split into files by chapter and characters break\n",
    "voice = texttospeech.VoiceSelectionParams(\n",
    "    language_code=\"en-US\",\n",
    "    name=\"en-US-News-M\",\n",
    "    ssml_gender=texttospeech.SsmlVoiceGender.MALE,\n",
    ")\n",
    "\n",
    "audio_config = texttospeech.AudioConfig(\n",
    "    audio_encoding=texttospeech.AudioEncoding.MP3,\n",
    "    speaking_rate=0.85\n",
    ")\n",
    "print(test_tta.synthesize_txt_split(file_name, file_limit=50, voice=voice, audio_config=audio_config))\n"
   ]
  },
  {
   "cell_type": "markdown",
   "id": "e75e7b40",
   "metadata": {},
   "source": [
    "Around the World in Eighty Days, an adventure novel by the French writer Jules Verne, first published in French in 1872.\n",
    "\n",
    "In the story: Phileas Fogg of London and his newly employed French valet Passepartout attempt to travel around the world in 80 days on a wager of £20,000 set by his friends at the Reform Club.\n",
    "\n",
    "Credits\n",
    "Text: Project Gutenberg https://www.gutenberg.org/ebooks/64317\n",
    "Voice: Google Cloud Text-to-Speech\n",
    "Produced by: The Classic Narrator 2023\n",
    "\n",
    "====\n",
    "\n",
    "Audiobook: The Great Gatsby\n",
    "\n",
    "1925 novel by American writer F. Scott Fitzgerald. Set in the Jazz Age on Long Island, near New York City\n",
    "\n",
    "====\n",
    "\n",
    "Title: \"The Great Gatsby Audiobook - Full Audiobook by F. Scott Fitzgerald (Narrated by Text-to-Speech)\"\n",
    "\n",
    "Description: \"Experience the classic novel of the Roaring Twenties like never before with this full audiobook of F. Scott Fitzgerald's The Great Gatsby, brought to life by AI narrator. Follow the story of Jay Gatsby and his doomed love for the beautiful Daisy Buchanan as you listen to this version of the novel. Perfect for long commutes, road trips, or just a relaxing listen at home. \n",
    "\n",
    "Search for keywords such as \"Great Gatsby audiobook\" \"F. Scott Fitzgerald audiobook\" \"Gatsby novel audiobook\" \"Roaring Twenties audiobook\" \"text-to-speech audiobook\" to find this recording.\"\n",
    "\n",
    "\n",
    "Great Gatsby audiobook,F. Scott Fitzgerald audiobook, Classic literature, Drama, Tragedy, classic literature, long car rides\n"
   ]
  },
  {
   "cell_type": "code",
   "execution_count": 17,
   "id": "fa6df99c",
   "metadata": {},
   "outputs": [
    {
     "name": "stdout",
     "output_type": "stream",
     "text": [
      "Generate audio => output_0.mp3\n"
     ]
    },
    {
     "data": {
      "text/plain": [
       "1"
      ]
     },
     "execution_count": 17,
     "metadata": {},
     "output_type": "execute_result"
    }
   ],
   "source": [
    "# Test voice\n",
    "\n",
    "from TextToAudiobook import *\n",
    "test_tta = TextToAudiobook(\"test\")\n",
    "\n",
    "text = '''\n",
    "<speak>\n",
    "He opened it at the back cover and turned it around for me to see. On\n",
    "the last flyleaf was printed the word schedule, and the date September\n",
    "12, 1906. And underneath:\n",
    "\n",
    "    Rise from bed                                  6:00      a.m.\n",
    "    Dumbell exercise and wall-scaling              6:15-6:30 ”\n",
    "    Study electricity, etc.                        7:15-8:15 ”\n",
    "    Work                                           8:30-4:30 p.m.\n",
    "    Baseball and sports                            4:30-5:00 ”\n",
    "    Practise elocution, poise and how to attain it 5:00-6:00 ”\n",
    "    Study needed inventions                        7:00-9:00 ”\n",
    "\n",
    "               General Resolves\n",
    "\n",
    "  No wasting time at Shafters or [a name, indecipherable]\n",
    "\n",
    "  No more smokeing or chewing.\n",
    "\n",
    "  Bath every other day\n",
    "\n",
    "  Read one improving book or magazine per week\n",
    "\n",
    "  Save $5.00 [crossed out] $3.00 per week\n",
    "\n",
    "  Be better to parents\n",
    "\n",
    "“I came across this book by accident,” said the old man. “It just\n",
    "shows you, don’t it?”\n",
    "</speak>\n",
    "'''\n",
    "\n",
    "text = '''\n",
    "This responsiveness had nothing to do with that\n",
    "flabby impressionability which is dignified under the name of the\n",
    "<emphasis level=\"moderate\">creative temperament</emphasis>—it was an extraordinary gift for hope, a\n",
    "romantic readiness such as I have never found in any other person and\n",
    "which it is not likely I shall ever find again.\n",
    "\n",
    "This responsiveness had nothing to do with that\n",
    "flabby impressionability which is dignified under the name of the\n",
    "<p>creative temperament</p>—it was an extraordinary gift for hope, a\n",
    "romantic readiness such as I have never found in any other person and\n",
    "which it is not likely I shall ever find again.\n",
    "'''\n",
    "\n",
    "voice = texttospeech.VoiceSelectionParams(\n",
    "    language_code=\"en-US\",\n",
    "    name=\"en-US-News-M\",\n",
    "    ssml_gender=texttospeech.SsmlVoiceGender.MALE,\n",
    ")\n",
    "\n",
    "audio_config = texttospeech.AudioConfig(\n",
    "    audio_encoding=texttospeech.AudioEncoding.MP3,\n",
    "    speaking_rate=0.85\n",
    ")\n",
    "test_tta.synthesize_ssml(text, \"output_0.mp3\", voice, audio_config)"
   ]
  },
  {
   "cell_type": "code",
   "execution_count": null,
   "id": "3b879ca4",
   "metadata": {},
   "outputs": [],
   "source": [
    "Prompt story image:\n",
    "1920,\n",
    "\n",
    "over a dark blue skyline,\n",
    "with carnival lights evoking Coney Island. --no text --ar 3:2\n",
    "    \n",
    "1920,\n",
    "celestial eyes of a Jazz Age flapper,\n",
    "over a dark blue skyline,\n",
    "with carnival lights evoking Coney Island. --no text --ar 3:2\n",
    "    \n",
    "1920,\n",
    "celestial eyes without face,\n",
    "over a dark blue skyline,\n",
    "with carnival lights evoking Coney Island. --no text --ar 3:2\n",
    "    \n",
    "1920,\n",
    "dark blue skyline,\n",
    "with carnival lights evoking Coney Island. \n",
    "faded face of a Jazz Age flapper with celestial eyes and rouged mouth \n",
    "--no text --ar 3:2\n",
    "    \n",
    "New York 1920,\n",
    "dark blue skyline,\n",
    "with carnival lights evoking Coney Island\n",
    "--no text --ar 3:2"
   ]
  },
  {
   "cell_type": "code",
   "execution_count": 2,
   "id": "98d51aa4",
   "metadata": {},
   "outputs": [
    {
     "name": "stdout",
     "output_type": "stream",
     "text": [
      "0:00:00 Chapter 1\n",
      "0:36:08 Chaptor 2\n",
      "1:01:55 Chaptor 3\n",
      "1:37:10 Chaptor 4\n",
      "2:10:24 Chaptor 5\n",
      "2:36:02 Chaptor 6\n",
      "3:00:52 Chaptor 7\n",
      "3:55:31 Chaptor 8\n",
      "4:22:23 Chaptor 9\n"
     ]
    }
   ],
   "source": [
    "print(test_tta.gen_youtube_chapter_marker(file_name))"
   ]
  },
  {
   "cell_type": "code",
   "execution_count": null,
   "id": "c30f9fc0",
   "metadata": {},
   "outputs": [],
   "source": []
  }
 ],
 "metadata": {
  "kernelspec": {
   "display_name": "Python tts env",
   "language": "python",
   "name": "tts_env"
  },
  "language_info": {
   "codemirror_mode": {
    "name": "ipython",
    "version": 3
   },
   "file_extension": ".py",
   "mimetype": "text/x-python",
   "name": "python",
   "nbconvert_exporter": "python",
   "pygments_lexer": "ipython3",
   "version": "3.9.12"
  }
 },
 "nbformat": 4,
 "nbformat_minor": 5
}
