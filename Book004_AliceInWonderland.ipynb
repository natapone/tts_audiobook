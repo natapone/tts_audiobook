{
 "cells": [
  {
   "cell_type": "markdown",
   "id": "bc71c82b",
   "metadata": {},
   "source": [
    "Source https://www.gutenberg.org/ebooks/11\n",
    "\n",
    "Ref https://en.wikipedia.org/wiki/Alice%27s_Adventures_in_Wonderland"
   ]
  },
  {
   "cell_type": "code",
   "execution_count": null,
   "id": "8e0fc48f",
   "metadata": {},
   "outputs": [],
   "source": [
    "# Concept art\n",
    "\n",
    "Summary: 1865 English novel, \n",
    "story of a young girl named Alice who falls through a rabbit hole into \n",
    "a fantasy world of anthropomorphic creatures.\n",
    "\n",
    "Genre: Fantasy\n",
    "\n",
    "Background: \n",
    "Folly Bridge, Oxford Godstow, Oxfordshire.\n",
    "golden afternoon\n",
    "The White Rabbit\n",
    "The Cheshire Cat\n",
    "The Hatter\n",
    "The Queen of Hearts\n",
    "\n",
    "Alice:\n",
    "young girl, dark hair and a short fringe\n",
    "mid-Victorian era\n",
    "\"loving and gentle\", \"courteous to all\", \"trustful\", and \"wildly curious\"\n",
    "\n",
    "Prompt:\n",
    "Alice, young girl in mid-Victorian era, dark hair and a short fringe,\n",
    "loving and gentle, courteous to all, wildly curious,\n",
    "falls through a rabbit hole into a fantasy world of anthropomorphic creatures,\n",
    "The White Rabbit, The Cheshire grining Cat, The Hatter, The Queen of Hearts\n",
    "--ar 3:2 --no text\n",
    "\n",
    "Alice, young girl in mid-Victorian era, falls through a rabbit hole into a fantasy world of anthropomorphic creatures,\n",
    "dark hair and a short fringe, courteous to all, wildly curious,\n",
    "--ar 3:2 --no text\n",
    "    \n",
    "golden afternoon during travel, falls Under Ground, through a rabbit hole into a fantasy world of anthropomorphic creatures,\n",
    "young girl in mid-Victorian era, dark hair and a short fringe, courteous to all, wildly curious,\n",
    "--ar 3:2 --no text\n",
    "    \n",
    "Alice, young girl in mid-Victorian era, dark hair and a short fringe,\n",
    "loving and gentle, courteous to all, wildly curious,\n",
    "falls under Ground through a rabbit hole into a fantasy world of anthropomorphic creatures,\n",
    "--ar 3:2 --no text\n",
    "    \n",
    "Alice, young girl traveling in mid-Victorian era, dark hair and a short fringe,\n",
    "loving and gentle, courteous to all, wildly curious,\n",
    "falls under Ground through a rabbit hole into a fantasy world of creatures,\n",
    "The White Rabbit, The Cheshire grining Cat, The Hatter, The Queen of Hearts\n",
    "--ar 3:2 --no text\n",
    "    "
   ]
  },
  {
   "cell_type": "code",
   "execution_count": null,
   "id": "0229b767",
   "metadata": {},
   "outputs": [],
   "source": [
    "# Youtube description\n",
    "\n",
    "Title: \"Alice in Wonderland: Full Audiobook\"\n",
    "\n",
    "Step into the fantastical world of Lewis Carroll's \"Alice in Wonderland\" with this full audiobook edition. \n",
    "Follow Alice as she falls down the rabbit hole and encounters a host of peculiar characters, \n",
    "including the Mad Hatter, the Cheshire Cat, and the Queen of Hearts. Let the enchanting story \n",
    "and captivating narration transport you to a place of wonder and imagination.\n",
    "\n",
    "Keywords: Alice in Wonderland, Lewis Carroll, audiobook, full audiobook, classic literature, fantasy, children's literature, Mad Hatter, Cheshire Cat, Queen of Hearts, imagination, narration, wonderland\n",
    "\n",
    "\n",
    "0:00:00 Chapter 1\n",
    "0:13:05 Chaptor 2\n",
    "0:26:26 Chaptor 3\n",
    "0:37:47 Chaptor 4\n",
    "0:54:16 Chaptor 5\n",
    "1:08:12 Chaptor 6\n",
    "1:24:26 Chaptor 7\n",
    "1:39:41 Chaptor 8\n",
    "1:55:37 Chaptor 9\n",
    "2:10:48 Chaptor 10\n",
    "2:25:00 Chaptor 11\n",
    "2:37:10 Chaptor 12\n",
    "        \n",
    "Credits\n",
    "Text: Project Gutenberg https://www.gutenberg.org/ebooks/11\n",
    "Voice: Google Cloud Text-to-Speech\n",
    "Produced by: The Classic Narrator 2023"
   ]
  },
  {
   "cell_type": "code",
   "execution_count": 90,
   "id": "77a554fb",
   "metadata": {},
   "outputs": [
    {
     "name": "stdout",
     "output_type": "stream",
     "text": [
      "Generate audio => 0008_005_2.mp3\n"
     ]
    },
    {
     "data": {
      "text/plain": [
       "1"
      ]
     },
     "execution_count": 90,
     "metadata": {},
     "output_type": "execute_result"
    }
   ],
   "source": [
    "# Voice test\n",
    "\n",
    "from TextToAudiobook import *\n",
    "test_tta = TextToAudiobook(\"test\")\n",
    "\n",
    "\n",
    "\n",
    "text = '''\n",
    "\n",
    "The chief difficulty Alice found at first was in managing her flamingo:\n",
    "she succeeded in getting its body tucked away, comfortably enough,\n",
    "under her arm, with its legs hanging down, but generally, just as she\n",
    "had got its neck nicely straightened out, and was going to give the\n",
    "hedgehog a blow with its head, it  would  twist itself round and look\n",
    "up in her face, with such a puzzled expression that she could not help\n",
    "bursting out laughing: and when she had got its head down, and was\n",
    "going to begin again, it was very provoking to find that the hedgehog\n",
    "had unrolled itself, and was in the act of crawling away: besides all\n",
    "this, there was generally a ridge or furrow in the way wherever she\n",
    "wanted to send the hedgehog to\n",
    "\n",
    "'''\n",
    "\n",
    "# Test voices\n",
    "voice = texttospeech.VoiceSelectionParams(\n",
    "    language_code=\"en-GB\",\n",
    "    name=\"en-GB-Neural2-A\",\n",
    ")\n",
    "\n",
    "voice = texttospeech.VoiceSelectionParams(\n",
    "    language_code=\"en-GB\",\n",
    "    name=\"en-GB-Standard-A\",\n",
    ")\n",
    "\n",
    "\n",
    "audio_config = texttospeech.AudioConfig(\n",
    "    audio_encoding=texttospeech.AudioEncoding.MP3,\n",
    "    speaking_rate=0.9\n",
    ")\n",
    "\n",
    "# test_tta.synthesize_ssml(text, \"0008_005_2.mp3\", voice, audio_config)\n",
    "test_tta.synthesize_text(text, \"0008_005_2.mp3\", voice, audio_config)\n",
    "\n"
   ]
  },
  {
   "cell_type": "code",
   "execution_count": 91,
   "id": "0326b8d9",
   "metadata": {},
   "outputs": [
    {
     "name": "stdout",
     "output_type": "stream",
     "text": [
      "The autoreload extension is already loaded. To reload it, use:\n",
      "  %reload_ext autoreload\n"
     ]
    }
   ],
   "source": [
    "%load_ext autoreload\n",
    "%reload_ext autoreload\n",
    "%autoreload 2"
   ]
  },
  {
   "cell_type": "code",
   "execution_count": 92,
   "id": "c3793734",
   "metadata": {},
   "outputs": [],
   "source": [
    "# Text to script\n",
    "\n",
    "from TextToAudiobook import *\n",
    "\n",
    "test_tta = TextToAudiobook(\"AliceInWonderland\", char_limit_per_call=2000)\n",
    "file_name = \"11-1.txt\""
   ]
  },
  {
   "cell_type": "code",
   "execution_count": 41,
   "id": "4b63cb09",
   "metadata": {},
   "outputs": [
    {
     "name": "stdout",
     "output_type": "stream",
     "text": [
      "Clean: 3351 lines\n",
      "./AliceInWonderland/project_file/clean/11-1.txt\n",
      "Tag: 3351 lines\n",
      "./AliceInWonderland/project_file/tag/11-1.txt\n",
      "Break: 3351 lines\n",
      "./AliceInWonderland/project_file/break/11-1.txt\n",
      "Split: 97 files\n",
      "./AliceInWonderland/project_file/split/11-1_txt/\n"
     ]
    }
   ],
   "source": [
    "#1 Clean raw file and copy to clean folder\n",
    "print(test_tta.clean_txt_raw(file_name))\n",
    "\n",
    "#2 Tag speech in clean file and copy to tag folder\n",
    "print(test_tta.tag_txt_clean(file_name))\n",
    "\n",
    "#3 Mark break point by chapter and characters limit\n",
    "print(test_tta.break_txt_tag(file_name))\n",
    "\n",
    "#4 Split into files by chapter and characters break\n",
    "print(test_tta.split_txt_break(file_name))"
   ]
  },
  {
   "cell_type": "code",
   "execution_count": 74,
   "id": "750cd4eb",
   "metadata": {},
   "outputs": [
    {
     "name": "stdout",
     "output_type": "stream",
     "text": [
      "Generate audio => ./AliceInWonderland/project_file/audio/11-1_txt/0008_005.mp3\n",
      "Synthesize: 1 files\n",
      "./AliceInWonderland/project_file/audio/11-1_txt/\n"
     ]
    }
   ],
   "source": [
    "# Split into files by chapter and characters break\n",
    "voice = texttospeech.VoiceSelectionParams(\n",
    "    language_code=\"en-GB\",\n",
    "    name=\"en-GB-Neural2-A\",\n",
    ")\n",
    "\n",
    "audio_config = texttospeech.AudioConfig(\n",
    "    audio_encoding=texttospeech.AudioEncoding.MP3,\n",
    "    speaking_rate=0.8\n",
    ")\n",
    "print(test_tta.synthesize_txt_split(file_name, file_limit=20, voice=voice, audio_config=audio_config))\n"
   ]
  },
  {
   "cell_type": "code",
   "execution_count": 93,
   "id": "ab7994d6",
   "metadata": {},
   "outputs": [
    {
     "name": "stdout",
     "output_type": "stream",
     "text": [
      "Generate track list: ./AliceInWonderland/project_file/audio/11-1_txt/track_list.txt [total: 98 files]\n"
     ]
    },
    {
     "name": "stderr",
     "output_type": "stream",
     "text": [
      "ffmpeg version 5.1.2 Copyright (c) 2000-2022 the FFmpeg developers\n",
      "  built with Apple clang version 14.0.0 (clang-1400.0.29.102)\n",
      "  configuration: --prefix=/usr/local/Cellar/ffmpeg/5.1.2 --enable-shared --enable-pthreads --enable-version3 --cc=clang --host-cflags= --host-ldflags= --enable-ffplay --enable-gnutls --enable-gpl --enable-libaom --enable-libbluray --enable-libdav1d --enable-libmp3lame --enable-libopus --enable-librav1e --enable-librist --enable-librubberband --enable-libsnappy --enable-libsrt --enable-libtesseract --enable-libtheora --enable-libvidstab --enable-libvmaf --enable-libvorbis --enable-libvpx --enable-libwebp --enable-libx264 --enable-libx265 --enable-libxml2 --enable-libxvid --enable-lzma --enable-libfontconfig --enable-libfreetype --enable-frei0r --enable-libass --enable-libopencore-amrnb --enable-libopencore-amrwb --enable-libopenjpeg --enable-libspeex --enable-libsoxr --enable-libzmq --enable-libzimg --disable-libjack --disable-indev=jack --enable-videotoolbox\n",
      "  libavutil      57. 28.100 / 57. 28.100\n",
      "  libavcodec     59. 37.100 / 59. 37.100\n",
      "  libavformat    59. 27.100 / 59. 27.100\n",
      "  libavdevice    59.  7.100 / 59.  7.100\n",
      "  libavfilter     8. 44.100 /  8. 44.100\n",
      "  libswscale      6.  7.100 /  6.  7.100\n",
      "  libswresample   4.  7.100 /  4.  7.100\n",
      "  libpostproc    56.  6.100 / 56.  6.100\n",
      "[mp3 @ 0x7f931a907d80] Estimating duration from bitrate, this may be inaccurate\n",
      "Input #0, concat, from './AliceInWonderland/project_file/audio/11-1_txt/track_list.txt':\n",
      "  Duration: N/A, start: 0.000000, bitrate: 32 kb/s\n",
      "  Stream #0:0: Audio: mp3, 24000 Hz, mono, fltp, 32 kb/s\n",
      "Output #0, mp3, to './AliceInWonderland/project_file/audio/11-1_txt.mp3':\n",
      "  Metadata:\n",
      "    TSSE            : Lavf59.27.100\n",
      "  Stream #0:0: Audio: mp3, 24000 Hz, mono, fltp, 32 kb/s\n",
      "Stream mapping:\n",
      "  Stream #0:0 -> #0:0 (copy)\n",
      "Press [q] to stop, [?] for help\n",
      "[mp3 @ 0x7f931a8092c0] Estimating duration from bitrate, this may be inaccurate\n",
      "[mp3 @ 0x7f931a908600] Estimating duration from bitrate, this may be inaccurate\n",
      "[mp3 @ 0x7f931ab04240] Estimating duration from bitrate, this may be inaccurate\n",
      "[mp3 @ 0x7f931a907c80] Estimating duration from bitrate, this may be inaccurate\n",
      "[mp3 @ 0x7f931a8092c0] Estimating duration from bitrate, this may be inaccurate\n",
      "[mp3 @ 0x7f9319f04f40] Estimating duration from bitrate, this may be inaccurate\n",
      "[mp3 @ 0x7f9319f04500] Estimating duration from bitrate, this may be inaccurate\n",
      "[mp3 @ 0x7f9319f042c0] Estimating duration from bitrate, this may be inaccurate\n",
      "[mp3 @ 0x7f931a809440] Estimating duration from bitrate, this may be inaccurate\n",
      "[mp3 @ 0x7f931a907c80] Estimating duration from bitrate, this may be inaccurate\n",
      "[mp3 @ 0x7f931ab042c0] Estimating duration from bitrate, this may be inaccurate\n",
      "[mp3 @ 0x7f931a809a00] Estimating duration from bitrate, this may be inaccurate\n",
      "[mp3 @ 0x7f9319f04300] Estimating duration from bitrate, this may be inaccurate\n",
      "[mp3 @ 0x7f9319f042c0] Estimating duration from bitrate, this may be inaccurate\n",
      "    Last message repeated 1 times\n",
      "[mp3 @ 0x7f931ab040c0] Estimating duration from bitrate, this may be inaccurate\n",
      "[mp3 @ 0x7f9319f04400] Estimating duration from bitrate, this may be inaccurate\n",
      "[mp3 @ 0x7f931a80c340] Estimating duration from bitrate, this may be inaccurate\n",
      "[mp3 @ 0x7f931a809a00] Estimating duration from bitrate, this may be inaccurate\n",
      "[mp3 @ 0x7f931ab04080] Estimating duration from bitrate, this may be inaccurate\n",
      "[mp3 @ 0x7f931a809a00] Estimating duration from bitrate, this may be inaccurate\n",
      "[mp3 @ 0x7f931ab04180] Estimating duration from bitrate, this may be inaccurate\n",
      "[mp3 @ 0x7f9319f04300] Estimating duration from bitrate, this may be inaccurate\n",
      "[mp3 @ 0x7f9319f05140] Estimating duration from bitrate, this may be inaccurate\n",
      "[mp3 @ 0x7f9319f04380] Estimating duration from bitrate, this may be inaccurate\n",
      "[mp3 @ 0x7f9319f042c0] Estimating duration from bitrate, this may be inaccurate\n",
      "[mp3 @ 0x7f931ab04080] Estimating duration from bitrate, this may be inaccurate\n",
      "[mp3 @ 0x7f931a907c80] Estimating duration from bitrate, this may be inaccurate\n",
      "[mp3 @ 0x7f931ab04180] Estimating duration from bitrate, this may be inaccurate\n",
      "[mp3 @ 0x7f931ab04080] Estimating duration from bitrate, this may be inaccurate\n",
      "[mp3 @ 0x7f931a907c80] Estimating duration from bitrate, this may be inaccurate\n",
      "[mp3 @ 0x7f9319f04300] Estimating duration from bitrate, this may be inaccurate\n",
      "[mp3 @ 0x7f9319f042c0] Estimating duration from bitrate, this may be inaccurate\n",
      "[mp3 @ 0x7f931ab040c0] Estimating duration from bitrate, this may be inaccurate\n",
      "[mp3 @ 0x7f9319f04300] Estimating duration from bitrate, this may be inaccurate\n",
      "[mp3 @ 0x7f931a908040] Estimating duration from bitrate, this may be inaccurate\n",
      "    Last message repeated 1 times\n",
      "[mp3 @ 0x7f931ab04080] Estimating duration from bitrate, this may be inaccurate\n",
      "[mp3 @ 0x7f931a908040] Estimating duration from bitrate, this may be inaccurate\n",
      "[mp3 @ 0x7f9319f04300] Estimating duration from bitrate, this may be inaccurate\n",
      "[mp3 @ 0x7f931a8092c0] Estimating duration from bitrate, this may be inaccurate\n",
      "[mp3 @ 0x7f931ae04080] Estimating duration from bitrate, this may be inaccurate\n",
      "[mp3 @ 0x7f931a809a00] Estimating duration from bitrate, this may be inaccurate\n",
      "[mp3 @ 0x7f931a907c80] Estimating duration from bitrate, this may be inaccurate\n",
      "[mp3 @ 0x7f931a809a00] Estimating duration from bitrate, this may be inaccurate\n",
      "[mp3 @ 0x7f9319f042c0] Estimating duration from bitrate, this may be inaccurate\n",
      "[mp3 @ 0x7f931ab040c0] Estimating duration from bitrate, this may be inaccurate\n",
      "[mp3 @ 0x7f931ab04080] Estimating duration from bitrate, this may be inaccurate\n",
      "[mp3 @ 0x7f9319f04300] Estimating duration from bitrate, this may be inaccurate\n",
      "[mp3 @ 0x7f9319f042c0] Estimating duration from bitrate, this may be inaccurate\n",
      "[mp3 @ 0x7f931a907d40] Estimating duration from bitrate, this may be inaccurate\n",
      "[mp3 @ 0x7f9319f04600] Estimating duration from bitrate, this may be inaccurate\n",
      "[mp3 @ 0x7f9319f042c0] Estimating duration from bitrate, this may be inaccurate\n",
      "[mp3 @ 0x7f931a907c80] Estimating duration from bitrate, this may be inaccurate\n",
      "[mp3 @ 0x7f9319f04400] Estimating duration from bitrate, this may be inaccurate\n",
      "    Last message repeated 1 times\n",
      "[mp3 @ 0x7f931a8092c0] Estimating duration from bitrate, this may be inaccurate\n",
      "[mp3 @ 0x7f931a907c80] Estimating duration from bitrate, this may be inaccurate\n",
      "    Last message repeated 3 times\n",
      "[mp3 @ 0x7f9319f04300] Estimating duration from bitrate, this may be inaccurate\n",
      "[mp3 @ 0x7f931a80c340] Estimating duration from bitrate, this may be inaccurate\n",
      "[mp3 @ 0x7f931a809a00] Estimating duration from bitrate, this may be inaccurate\n",
      "[mp3 @ 0x7f931a80c340] Estimating duration from bitrate, this may be inaccurate\n",
      "    Last message repeated 1 times\n",
      "[mp3 @ 0x7f931a907c80] Estimating duration from bitrate, this may be inaccurate\n",
      "[mp3 @ 0x7f931ae04080] Estimating duration from bitrate, this may be inaccurate\n",
      "[mp3 @ 0x7f931ab04080] Estimating duration from bitrate, this may be inaccurate\n",
      "[mp3 @ 0x7f931a907c80] Estimating duration from bitrate, this may be inaccurate\n",
      "[mp3 @ 0x7f931ab04240] Estimating duration from bitrate, this may be inaccurate\n",
      "[mp3 @ 0x7f931a809a00] Estimating duration from bitrate, this may be inaccurate\n",
      "[mp3 @ 0x7f931a907c80] Estimating duration from bitrate, this may be inaccurate\n",
      "[mp3 @ 0x7f931a80c340] Estimating duration from bitrate, this may be inaccurate\n",
      "[mp3 @ 0x7f931ab04880] Estimating duration from bitrate, this may be inaccurate\n",
      "[mp3 @ 0x7f9319f04340] Estimating duration from bitrate, this may be inaccurate\n",
      "[mp3 @ 0x7f931a907c80] Estimating duration from bitrate, this may be inaccurate\n",
      "    Last message repeated 1 times\n",
      "[mp3 @ 0x7f9319f044c0] Estimating duration from bitrate, this may be inaccurate\n",
      "[mp3 @ 0x7f931a907c80] Estimating duration from bitrate, this may be inaccurate\n",
      "[mp3 @ 0x7f931a809e40] Estimating duration from bitrate, this may be inaccurate\n",
      "[mp3 @ 0x7f931ab04080] Estimating duration from bitrate, this may be inaccurate\n",
      "[mp3 @ 0x7f931a8092c0] Estimating duration from bitrate, this may be inaccurate\n",
      "    Last message repeated 1 times\n",
      "[mp3 @ 0x7f931a907c80] Estimating duration from bitrate, this may be inaccurate\n",
      "[mp3 @ 0x7f931ae04080] Estimating duration from bitrate, this may be inaccurate\n",
      "[mp3 @ 0x7f931a907c80] Estimating duration from bitrate, this may be inaccurate\n",
      "[mp3 @ 0x7f931ab04080] Estimating duration from bitrate, this may be inaccurate\n",
      "[mp3 @ 0x7f9319f04340] Estimating duration from bitrate, this may be inaccurate\n",
      "[mp3 @ 0x7f931a908040] Estimating duration from bitrate, this may be inaccurate\n",
      "[mp3 @ 0x7f931ab04080] Estimating duration from bitrate, this may be inaccurate\n",
      "[mp3 @ 0x7f9319f042c0] Estimating duration from bitrate, this may be inaccurate\n",
      "    Last message repeated 1 times\n",
      "[mp3 @ 0x7f931ab04080] Estimating duration from bitrate, this may be inaccurate\n"
     ]
    },
    {
     "name": "stdout",
     "output_type": "stream",
     "text": [
      "Generate full audio: ./AliceInWonderland/project_file/audio/11-1_txt.mp3\n",
      "./AliceInWonderland/project_file/audio/11-1_txt.mp3\n"
     ]
    },
    {
     "name": "stderr",
     "output_type": "stream",
     "text": [
      "    Last message repeated 1 times\n",
      "[mp3 @ 0x7f931af04080] Estimating duration from bitrate, this may be inaccurate\n",
      "[mp3 @ 0x7f931ab04200] Estimating duration from bitrate, this may be inaccurate\n",
      "size=   40040kB time=02:50:50.13 bitrate=  32.0kbits/s speed=4.73e+03x    \n",
      "video:0kB audio:40040kB subtitle:0kB other streams:0kB global headers:0kB muxing overhead: 0.000578%\n"
     ]
    }
   ],
   "source": [
    "# Merge audio files => full length\n",
    "print(test_tta.merge_audio_files(file_name))"
   ]
  },
  {
   "cell_type": "code",
   "execution_count": 94,
   "id": "b382e4e1",
   "metadata": {},
   "outputs": [
    {
     "name": "stderr",
     "output_type": "stream",
     "text": [
      "ffmpeg version 5.1.2 Copyright (c) 2000-2022 the FFmpeg developers\n",
      "  built with Apple clang version 14.0.0 (clang-1400.0.29.102)\n",
      "  configuration: --prefix=/usr/local/Cellar/ffmpeg/5.1.2 --enable-shared --enable-pthreads --enable-version3 --cc=clang --host-cflags= --host-ldflags= --enable-ffplay --enable-gnutls --enable-gpl --enable-libaom --enable-libbluray --enable-libdav1d --enable-libmp3lame --enable-libopus --enable-librav1e --enable-librist --enable-librubberband --enable-libsnappy --enable-libsrt --enable-libtesseract --enable-libtheora --enable-libvidstab --enable-libvmaf --enable-libvorbis --enable-libvpx --enable-libwebp --enable-libx264 --enable-libx265 --enable-libxml2 --enable-libxvid --enable-lzma --enable-libfontconfig --enable-libfreetype --enable-frei0r --enable-libass --enable-libopencore-amrnb --enable-libopencore-amrwb --enable-libopenjpeg --enable-libspeex --enable-libsoxr --enable-libzmq --enable-libzimg --disable-libjack --disable-indev=jack --enable-videotoolbox\n",
      "  libavutil      57. 28.100 / 57. 28.100\n",
      "  libavcodec     59. 37.100 / 59. 37.100\n",
      "  libavformat    59. 27.100 / 59. 27.100\n",
      "  libavdevice    59.  7.100 / 59.  7.100\n",
      "  libavfilter     8. 44.100 /  8. 44.100\n",
      "  libswscale      6.  7.100 /  6.  7.100\n",
      "  libswresample   4.  7.100 /  4.  7.100\n",
      "  libpostproc    56.  6.100 / 56.  6.100\n",
      "Input #0, png_pipe, from './AliceInWonderland/project_file/image/11-1_txt.png':\n",
      "  Duration: N/A, bitrate: N/A\n",
      "  Stream #0:0: Video: png, rgba(pc), 1280x720 [SAR 2835:2835 DAR 16:9], 25 fps, 25 tbr, 25 tbn\n",
      "Input #1, mp3, from './AliceInWonderland/project_file/audio/11-1_txt.mp3':\n",
      "  Metadata:\n",
      "    encoder         : Lavf59.27.100\n",
      "  Duration: 02:50:50.14, start: 0.022042, bitrate: 32 kb/s\n",
      "  Stream #1:0: Audio: mp3, 24000 Hz, mono, fltp, 32 kb/s\n",
      "Stream mapping:\n",
      "  Stream #0:0 -> #0:0 (png (native) -> h264 (libx264))\n",
      "  Stream #1:0 -> #0:1 (mp3 (mp3float) -> aac (native))\n",
      "Press [q] to stop, [?] for help\n",
      "[libx264 @ 0x7fe363808300] using SAR=1/1\n",
      "[libx264 @ 0x7fe363808300] using cpu capabilities: MMX2 SSE2Fast SSSE3 SSE4.2 AVX FMA3 BMI2 AVX2\n",
      "[libx264 @ 0x7fe363808300] profile High, level 3.1, 4:2:0, 8-bit\n",
      "[libx264 @ 0x7fe363808300] 264 - core 164 r3095 baee400 - H.264/MPEG-4 AVC codec - Copyleft 2003-2022 - http://www.videolan.org/x264.html - options: cabac=1 ref=3 deblock=1:-3:-3 analyse=0x3:0x113 me=hex subme=7 psy=1 psy_rd=2.00:0.70 mixed_ref=1 me_range=16 chroma_me=1 trellis=1 8x8dct=1 cqm=0 deadzone=21,11 fast_pskip=1 chroma_qp_offset=-4 threads=12 lookahead_threads=2 sliced_threads=0 nr=0 decimate=1 interlaced=0 bluray_compat=0 constrained_intra=0 bframes=3 b_pyramid=2 b_adapt=1 b_bias=0 direct=1 weightb=1 open_gop=0 weightp=2 keyint=250 keyint_min=25 scenecut=40 intra_refresh=0 rc_lookahead=40 rc=crf mbtree=1 crf=23.0 qcomp=0.60 qpmin=0 qpmax=69 qpstep=4 ip_ratio=1.40 aq=1:1.20\n",
      "[aac @ 0x7fe363809340] Too many bits 8192.000000 > 6144 per frame requested, clamping to max\n",
      "Output #0, mp4, to './AliceInWonderland/project_file/video/11-1_txt.mp4':\n",
      "  Metadata:\n",
      "    encoder         : Lavf59.27.100\n",
      "  Stream #0:0: Video: h264 (avc1 / 0x31637661), yuv420p(tv, progressive), 1280x720 [SAR 1:1 DAR 16:9], q=2-31, 25 fps, 12800 tbn\n",
      "    Metadata:\n",
      "      encoder         : Lavc59.37.100 libx264\n",
      "    Side data:\n",
      "      cpb: bitrate max/min/avg: 0/0/0 buffer size: 0 vbv_delay: N/A\n",
      "  Stream #0:1: Audio: aac (LC) (mp4a / 0x6134706D), 24000 Hz, mono, fltp, 144 kb/s\n",
      "    Metadata:\n",
      "      encoder         : Lavc59.37.100 aac\n",
      "frame=256291 fps=105 q=28.0 size=  345600kB time=02:50:49.30 bitrate= 276.2kbits/s speed=4.19x    \r"
     ]
    },
    {
     "name": "stdout",
     "output_type": "stream",
     "text": [
      "Generate full video: ./AliceInWonderland/project_file/video/11-1_txt.mp4\n",
      "./AliceInWonderland/project_file/video/11-1_txt.mp4\n"
     ]
    },
    {
     "name": "stderr",
     "output_type": "stream",
     "text": [
      "frame=256310 fps=105 q=-1.0 Lsize=  352235kB time=02:50:52.28 bitrate= 281.5kbits/s speed=4.19x    \n",
      "video:225160kB audio:120884kB subtitle:0kB other streams:0kB global headers:0kB muxing overhead: 1.789289%\n",
      "[libx264 @ 0x7fe363808300] frame I:1026  Avg QP:13.22  size:160398\n",
      "[libx264 @ 0x7fe363808300] frame P:64590 Avg QP:13.41  size:   681\n",
      "[libx264 @ 0x7fe363808300] frame B:190694 Avg QP:27.26  size:   115\n",
      "[libx264 @ 0x7fe363808300] consecutive B-frames:  0.8%  0.0%  0.0% 99.2%\n",
      "[libx264 @ 0x7fe363808300] mb I  I16..4:  2.6% 65.0% 32.4%\n",
      "[libx264 @ 0x7fe363808300] mb P  I16..4:  0.0%  0.0%  0.0%  P16..4:  1.8%  0.2%  0.3%  0.0%  0.0%    skip:97.8%\n",
      "[libx264 @ 0x7fe363808300] mb B  I16..4:  0.0%  0.0%  0.0%  B16..8:  2.6%  0.0%  0.0%  direct: 0.0%  skip:97.4%  L0:60.4% L1:39.4% BI: 0.2%\n",
      "[libx264 @ 0x7fe363808300] 8x8 transform intra:65.0% inter:88.7%\n",
      "[libx264 @ 0x7fe363808300] coded y,uvDC,uvAC intra: 98.3% 98.9% 97.4% inter: 0.3% 0.1% 0.0%\n",
      "[libx264 @ 0x7fe363808300] i16 v,h,dc,p:  9%  5%  9% 77%\n",
      "[libx264 @ 0x7fe363808300] i8 v,h,dc,ddl,ddr,vr,hd,vl,hu: 20% 15% 12%  9%  6%  9%  6% 13% 12%\n",
      "[libx264 @ 0x7fe363808300] i4 v,h,dc,ddl,ddr,vr,hd,vl,hu: 17% 12%  7% 10% 10% 12%  8% 11% 12%\n",
      "[libx264 @ 0x7fe363808300] i8c dc,h,v,p: 46% 19% 22% 14%\n",
      "[libx264 @ 0x7fe363808300] Weighted P-Frames: Y:0.0% UV:0.0%\n",
      "[libx264 @ 0x7fe363808300] ref P L0: 60.3%  0.2% 37.4%  2.0%\n",
      "[libx264 @ 0x7fe363808300] ref B L0: 53.3% 46.2%  0.5%\n",
      "[libx264 @ 0x7fe363808300] ref B L1: 95.5%  4.5%\n",
      "[libx264 @ 0x7fe363808300] kb/s:179.91\n",
      "[aac @ 0x7fe363809340] Qavg: 65502.801\n"
     ]
    }
   ],
   "source": [
    "# Audio + Image => Video\n",
    "print(test_tta.merge_video_file(file_name))"
   ]
  },
  {
   "cell_type": "code",
   "execution_count": 95,
   "id": "004bc195",
   "metadata": {},
   "outputs": [
    {
     "name": "stdout",
     "output_type": "stream",
     "text": [
      "0:00:00 Chapter 1\n",
      "0:13:05 Chaptor 2\n",
      "0:26:26 Chaptor 3\n",
      "0:37:47 Chaptor 4\n",
      "0:54:16 Chaptor 5\n",
      "1:08:12 Chaptor 6\n",
      "1:24:26 Chaptor 7\n",
      "1:39:41 Chaptor 8\n",
      "1:55:37 Chaptor 9\n",
      "2:10:48 Chaptor 10\n",
      "2:25:00 Chaptor 11\n",
      "2:37:10 Chaptor 12\n"
     ]
    }
   ],
   "source": [
    "print(test_tta.gen_youtube_chapter_marker(file_name))"
   ]
  },
  {
   "cell_type": "code",
   "execution_count": null,
   "id": "a692882a",
   "metadata": {},
   "outputs": [],
   "source": []
  }
 ],
 "metadata": {
  "kernelspec": {
   "display_name": "Python tts env",
   "language": "python",
   "name": "tts_env"
  },
  "language_info": {
   "codemirror_mode": {
    "name": "ipython",
    "version": 3
   },
   "file_extension": ".py",
   "mimetype": "text/x-python",
   "name": "python",
   "nbconvert_exporter": "python",
   "pygments_lexer": "ipython3",
   "version": "3.9.12"
  }
 },
 "nbformat": 4,
 "nbformat_minor": 5
}
