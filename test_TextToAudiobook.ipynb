{
 "cells": [
  {
   "cell_type": "markdown",
   "id": "f6ad255c",
   "metadata": {},
   "source": [
    "Steps\n",
    "- fetch full text file\n",
    "- clean unreadable string\n",
    "- insert chapter break\n",
    "- insert charactor limit break\n",
    "- tag SSML\n",
    "- break into small file per api call\n",
    "- convert with tts service\n",
    "- fix each file to improve reading"
   ]
  },
  {
   "cell_type": "code",
   "execution_count": 8,
   "id": "74a6957e",
   "metadata": {},
   "outputs": [
    {
     "name": "stdout",
     "output_type": "stream",
     "text": [
      "The autoreload extension is already loaded. To reload it, use:\n",
      "  %reload_ext autoreload\n"
     ]
    }
   ],
   "source": [
    "%load_ext autoreload\n",
    "%reload_ext autoreload"
   ]
  },
  {
   "cell_type": "code",
   "execution_count": 101,
   "id": "e763cc3d",
   "metadata": {},
   "outputs": [
    {
     "name": "stdout",
     "output_type": "stream",
     "text": [
      "CHAPTER 1. CHAPTER 23.\n",
      "True\n",
      "True\n",
      "8\n"
     ]
    }
   ],
   "source": [
    "from TextToAudiobook import *\n",
    "\n",
    "test_tta = TextToAudiobook(\"test\")\n",
    "\n",
    "# read raw file\n",
    "# print(test_tta.read_txt_raw(\"test_text.txt\"))\n",
    "\n",
    "# Clean roman numbers\n",
    "text = \"CHAPTER I. CHAPTER XXIII.\"\n",
    "print(test_tta.clean_roman_num_in_string(text))\n",
    "\n",
    "# Insert chapter break\n",
    "text = \"CHAPTER 23.\"\n",
    "print(test_tta.is_chapter_header(text))\n",
    "\n",
    "text = \"CHAPTER XII.\"\n",
    "print(test_tta.is_chapter_header(text))\n",
    "\n",
    "# Insert charactor limit break\n",
    "text = \"“Faith,” muttered Passepartout, somewhat flurried, “I’ve seen people at\"\n",
    "print(test_tta.get_line_break(text))"
   ]
  },
  {
   "cell_type": "code",
   "execution_count": 108,
   "id": "26431cdd",
   "metadata": {},
   "outputs": [
    {
     "name": "stdout",
     "output_type": "stream",
     "text": [
      "Line1 / 39: Title: Around the World in Eighty Days\n",
      "Line2 / 40: \n",
      "Line3 / 60: Author: Jules Verne\n",
      "Line4 / 61: \n",
      "Line5 / 62: \n",
      "[[-chapter_break-]]\n",
      "Line6 / 11: CHAPTER I.\n",
      "Line7 / 80: IN WHICH PHILEAS FOGG AND PASSEPARTOUT ACCEPT EACH OTHER, THE ONE AS\n",
      "Line8 / 105: MASTER, THE OTHER AS MAN\n",
      "Line9 / 106: \n",
      "Line10 / 107: \n",
      "Line11 / 174: Mr. Phileas Fogg lived, in 1872, at No. 7, Saville Row, Burlington\n",
      "Line12 / 84: Gardens,\n",
      "[[-character_break-]]\n",
      " the house in which Sheridan died in 1814. He was one of the\n",
      "Line13 / 155: most noticeable members of the Reform Club, though he seemed always to\n",
      "Line14 / 184: avoid attracting attention;\n",
      "Line15 / 185: \n",
      "[[-chapter_break-]]\n",
      "Line16 / 12: CHAPTER II.\n",
      "Line17 / 83: IN WHICH PASSEPARTOUT IS CONVINCED THAT HE HAS AT LAST FOUND HIS IDEAL\n",
      "Line18 / 84: \n",
      "Line19 / 85: \n",
      "Line20 / 158: “Faith?,” muttered Passepartout, somewhat flurried, “I’ve seen people at\n",
      "Line21 / 204: Madame Tussaud’s as lively as my new master!”\n",
      "Line22 / 205: \n",
      "Line23 / 65: Madame Tussaud’s “people,”\n",
      "[[-character_break-]]\n",
      " let it be said, are of wax, and are much\n",
      "Line24 / 134: visited in London; speech is all that is wanting to make them human.\n",
      "Line25 / 135: \n",
      "Line26 / 136: \n",
      "[[-chapter_break-]]\n",
      "Line27 / 15: CHAPTER XXXII.\n",
      "Line28 / 83: IN WHICH PHILEAS FOGG ENGAGES IN A DIRECT STRUGGLE WITH BAD FORTUNE\n",
      "Line29 / 84: \n",
      "Line30 / 85: \n",
      "Line31 / 157: The “China,” in leaving, seemed to have carried off Phileas Fogg’s last\n",
      "Line32 / 83: hope.\n",
      "[[-character_break-]]\n",
      " None of the other steamers were able to serve his projects.\n",
      "1\n"
     ]
    }
   ],
   "source": [
    "\n",
    "print(test_tta.clean_txt_raw(\"test_text.txt\"))"
   ]
  },
  {
   "cell_type": "code",
   "execution_count": null,
   "id": "0a297d58",
   "metadata": {},
   "outputs": [],
   "source": []
  }
 ],
 "metadata": {
  "kernelspec": {
   "display_name": "Python 3 (ipykernel)",
   "language": "python",
   "name": "python3"
  },
  "language_info": {
   "codemirror_mode": {
    "name": "ipython",
    "version": 3
   },
   "file_extension": ".py",
   "mimetype": "text/x-python",
   "name": "python",
   "nbconvert_exporter": "python",
   "pygments_lexer": "ipython3",
   "version": "3.9.12"
  }
 },
 "nbformat": 4,
 "nbformat_minor": 5
}
