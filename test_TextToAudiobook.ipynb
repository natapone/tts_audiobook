{
 "cells": [
  {
   "cell_type": "markdown",
   "id": "f6ad255c",
   "metadata": {},
   "source": [
    "Steps\n",
    "- fetch full text file\n",
    "- clean unreadable string eg Roman number\n",
    "- tag SSML\n",
    "- insert chapter break\n",
    "- insert charactor limit break\n",
    "- split into small files per api call\n",
    "- convert with tts service\n",
    "- fix each file to improve reading"
   ]
  },
  {
   "cell_type": "code",
   "execution_count": 33,
   "id": "0d0778d6",
   "metadata": {},
   "outputs": [
    {
     "name": "stdout",
     "output_type": "stream",
     "text": [
      "The autoreload extension is already loaded. To reload it, use:\n",
      "  %reload_ext autoreload\n"
     ]
    }
   ],
   "source": [
    "%load_ext autoreload\n",
    "%reload_ext autoreload\n",
    "%autoreload 2"
   ]
  },
  {
   "cell_type": "code",
   "execution_count": 71,
   "id": "e763cc3d",
   "metadata": {},
   "outputs": [
    {
     "name": "stdout",
     "output_type": "stream",
     "text": [
      "CHAPTER 1. CHAPTER 23.\n",
      "True\n",
      "True\n",
      "8\n",
      "[[-header_begin-]]CHAPTER I.[[-header_end-]]\n",
      "<prosody rate=\"slow\" pitch=\"-2st\">CHAPTER I.</prosody>\n",
      "[[-break_weak-]]\n",
      "\n",
      "<break strength=\"weak\"/>\n",
      "\n",
      "xxx [[-emphasis_strong-]]Faith?[[-emphasis_end-]] muttered [[-emphasis_strong-]]Faith![[-emphasis_end-]] Passepartout\n",
      "xxx <emphasis level=\"strong\">Faith?</emphasis> muttered <emphasis level=\"strong\">Faith!</emphasis> Passepartout\n",
      "[[-emphasis_moderate-]]You are a Frenchman I believe[[-emphasis_end-]] asked Phileas Fogg, [[-emphasis_strong-]]and your name is John?[[-emphasis_end-]]\n",
      "<emphasis level=\"moderate\">You are a Frenchman I believe</emphasis> asked Phileas Fogg, <emphasis level=\"strong\">and your name is John?</emphasis>\n",
      "[[-emphasis_moderate-]]my name is John[[-emphasis_end-]] I said, [[-emphasis_moderate-]]my name is John[[-emphasis_end-]]\n",
      "<emphasis level=\"moderate\">my name is John</emphasis> I said, <emphasis level=\"moderate\">my name is John</emphasis>\n"
     ]
    }
   ],
   "source": [
    "from TextToAudiobook import *\n",
    "\n",
    "test_tta = TextToAudiobook(\"test\")\n",
    "\n",
    "# read raw file\n",
    "# print(test_tta.read_txt_raw(\"test_text.txt\"))\n",
    "\n",
    "# Clean roman numbers\n",
    "text = \"CHAPTER I. CHAPTER XXIII.\"\n",
    "print(test_tta.clean_roman_num_in_string(text))\n",
    "\n",
    "# Insert chapter break\n",
    "text = \"CHAPTER 23.\"\n",
    "print(test_tta.is_chapter_header(text))\n",
    "\n",
    "text = \"CHAPTER XII.\"\n",
    "print(test_tta.is_chapter_header(text))\n",
    "\n",
    "# Insert charactor limit break\n",
    "text = \"“Faith,” muttered Passepartout, somewhat flurried, “I’ve seen people at\"\n",
    "print(test_tta.get_line_break(text))\n",
    "\n",
    "# tags\n",
    "# - Header\n",
    "# - new paragraph break\n",
    "# - emphasis strong\n",
    "# - emphasis mid\n",
    "\n",
    "text = \"CHAPTER I.\"\n",
    "text = test_tta.insert_tag_header(text)\n",
    "print(text)\n",
    "text = test_tta.replace_tag_ssml(text)\n",
    "print(text)\n",
    "\n",
    "text = \"\\n\"\n",
    "text = test_tta.insert_tag_paragraph_break(text)\n",
    "print(text)\n",
    "text = test_tta.replace_tag_ssml(text)\n",
    "print(text)\n",
    "\n",
    "text = 'xxx “Faith?,” muttered \"Faith!\" Passepartout'\n",
    "text = test_tta.insert_tag_emphasis(text)\n",
    "print(text)\n",
    "text = test_tta.replace_tag_ssml(text)\n",
    "print(text)\n",
    "\n",
    "text = '“You are a Frenchman, I believe,” asked Phileas Fogg, “and your name is John?”'\n",
    "text = test_tta.insert_tag_emphasis(text)\n",
    "print(text)\n",
    "text = test_tta.replace_tag_ssml(text)\n",
    "print(text)\n",
    "\n",
    "text = '\"my name is John\" I said, \"my name is John\"'\n",
    "text = test_tta.insert_tag_emphasis(text)\n",
    "print(text)\n",
    "text = test_tta.replace_tag_ssml(text)\n",
    "print(text)"
   ]
  },
  {
   "cell_type": "code",
   "execution_count": 57,
   "id": "8f64b929",
   "metadata": {},
   "outputs": [
    {
     "name": "stdout",
     "output_type": "stream",
     "text": [
      "Clean: 41 lines\n",
      "./test/project_file/clean/test_text.txt\n"
     ]
    }
   ],
   "source": [
    "# Clean raw file and copy to clean folder\n",
    "print(test_tta.clean_txt_raw(\"test_text.txt\"))"
   ]
  },
  {
   "cell_type": "code",
   "execution_count": 74,
   "id": "5f99f6d8",
   "metadata": {},
   "outputs": [
    {
     "name": "stdout",
     "output_type": "stream",
     "text": [
      "Clean: 41 lines\n",
      "./test/project_file/tag/test_text.txt\n"
     ]
    }
   ],
   "source": [
    "# Tag speech in clean file and copy to tag folder\n",
    "print(test_tta.tag_txt_clean(\"test_text.txt\"))"
   ]
  },
  {
   "cell_type": "code",
   "execution_count": 39,
   "id": "92f76be0",
   "metadata": {},
   "outputs": [
    {
     "name": "stdout",
     "output_type": "stream",
     "text": [
      "None\n"
     ]
    }
   ],
   "source": [
    "\n",
    "print(test_tta.clean_txt_raw(\"test_text.txt\"))"
   ]
  },
  {
   "cell_type": "code",
   "execution_count": null,
   "id": "2b5761d0",
   "metadata": {},
   "outputs": [],
   "source": []
  }
 ],
 "metadata": {
  "kernelspec": {
   "display_name": "Python 3 (ipykernel)",
   "language": "python",
   "name": "python3"
  },
  "language_info": {
   "codemirror_mode": {
    "name": "ipython",
    "version": 3
   },
   "file_extension": ".py",
   "mimetype": "text/x-python",
   "name": "python",
   "nbconvert_exporter": "python",
   "pygments_lexer": "ipython3",
   "version": "3.9.12"
  }
 },
 "nbformat": 4,
 "nbformat_minor": 5
}
