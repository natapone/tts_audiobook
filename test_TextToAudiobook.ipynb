{
 "cells": [
  {
   "cell_type": "markdown",
   "id": "f6ad255c",
   "metadata": {},
   "source": [
    "Steps\n",
    "- fetch full text file\n",
    "- clean unreadable string eg Roman number\n",
    "- tag SSML\n",
    "- insert chapter break\n",
    "- insert charactor limit break\n",
    "- split into small files per api call\n",
    "- convert with tts service\n",
    "- fix each file to improve reading"
   ]
  },
  {
   "cell_type": "code",
   "execution_count": 85,
   "id": "0d0778d6",
   "metadata": {},
   "outputs": [
    {
     "name": "stdout",
     "output_type": "stream",
     "text": [
      "The autoreload extension is already loaded. To reload it, use:\n",
      "  %reload_ext autoreload\n"
     ]
    }
   ],
   "source": [
    "%load_ext autoreload\n",
    "%reload_ext autoreload\n",
    "%autoreload 2"
   ]
  },
  {
   "cell_type": "code",
   "execution_count": 106,
   "id": "e763cc3d",
   "metadata": {},
   "outputs": [
    {
     "name": "stdout",
     "output_type": "stream",
     "text": [
      "CHAPTER 1. CHAPTER 23.\n",
      "True\n",
      "True\n",
      "True\n",
      "8\n",
      "True\n",
      "[[-header_begin-]]CHAPTER I.[[-header_end-]]\n",
      "<prosody rate=\"slow\" pitch=\"-2st\">CHAPTER I.</prosody>\n",
      "[[-break_weak-]]\n",
      "\n",
      "<break strength=\"weak\"/>\n",
      "\n",
      "xxx [[-emphasis_strong-]]Faith?[[-emphasis_end-]] muttered [[-emphasis_strong-]]Faith![[-emphasis_end-]] Passepartout\n",
      "xxx <emphasis level=\"strong\">Faith?</emphasis> muttered <emphasis level=\"strong\">Faith!</emphasis> Passepartout\n",
      "[[-emphasis_moderate-]]You are a Frenchman I believe[[-emphasis_end-]] asked Phileas Fogg, [[-emphasis_strong-]]and your name is John?[[-emphasis_end-]]\n",
      "<emphasis level=\"moderate\">You are a Frenchman I believe</emphasis> asked Phileas Fogg, <emphasis level=\"strong\">and your name is John?</emphasis>\n",
      "[[-emphasis_moderate-]]my name is John[[-emphasis_end-]] I said, [[-emphasis_moderate-]]my name is John[[-emphasis_end-]]\n",
      "<emphasis level=\"moderate\">my name is John</emphasis> I said, <emphasis level=\"moderate\">my name is John</emphasis>\n",
      "[[-title_begin-]]Title: Around the World in Eighty Days[[-title_end-]]\n",
      "<prosody rate=\"x-slow\" pitch=\"-2st\">Title: Around the World in Eighty Days</prosody>\n",
      "[[-title_begin-]]Author: Jules Verne[[-title_end-]]\n",
      "<prosody rate=\"x-slow\" pitch=\"-2st\">Author: Jules Verne</prosody>\n"
     ]
    }
   ],
   "source": [
    "from TextToAudiobook import *\n",
    "\n",
    "test_tta = TextToAudiobook(\"test\")\n",
    "\n",
    "# read raw file\n",
    "# print(test_tta.read_txt_raw(\"test_text.txt\"))\n",
    "\n",
    "# Clean roman numbers\n",
    "text = \"CHAPTER I. CHAPTER XXIII.\"\n",
    "print(test_tta.clean_roman_num_in_string(text))\n",
    "\n",
    "# Insert chapter break\n",
    "text = \"CHAPTER 23.\"\n",
    "print(test_tta.is_chapter_header(text))\n",
    "\n",
    "text = \"CHAPTER XII.\"\n",
    "print(test_tta.is_chapter_header(text))\n",
    "\n",
    "text = \"[[-header_begin-]]CHAPTER 2.[[-header_end-]]\"\n",
    "print(test_tta.is_chapter_header(text))\n",
    "\n",
    "# Insert charactor limit break\n",
    "text = \"“Faith,” muttered Passepartout, somewhat flurried, “I’ve seen people at\"\n",
    "print(test_tta.get_line_break(text))\n",
    "\n",
    "# Check Book title\n",
    "text = \"Title: Around the World in Eighty Days\"\n",
    "print(test_tta.is_book_title(text))\n",
    "\n",
    "# tags\n",
    "# - Header\n",
    "# - new paragraph break\n",
    "# - emphasis strong\n",
    "# - emphasis mid\n",
    "\n",
    "text = \"CHAPTER I.\"\n",
    "text = test_tta.insert_tag_header(text)\n",
    "print(text)\n",
    "text = test_tta.replace_tag_ssml(text)\n",
    "print(text)\n",
    "\n",
    "text = \"\\n\"\n",
    "text = test_tta.insert_tag_paragraph_break(text)\n",
    "print(text)\n",
    "text = test_tta.replace_tag_ssml(text)\n",
    "print(text)\n",
    "\n",
    "text = 'xxx “Faith?,” muttered \"Faith!\" Passepartout'\n",
    "text = test_tta.insert_tag_emphasis(text)\n",
    "print(text)\n",
    "text = test_tta.replace_tag_ssml(text)\n",
    "print(text)\n",
    "\n",
    "text = '“You are a Frenchman, I believe,” asked Phileas Fogg, “and your name is John?”'\n",
    "text = test_tta.insert_tag_emphasis(text)\n",
    "print(text)\n",
    "text = test_tta.replace_tag_ssml(text)\n",
    "print(text)\n",
    "\n",
    "text = '\"my name is John\" I said, \"my name is John\"'\n",
    "text = test_tta.insert_tag_emphasis(text)\n",
    "print(text)\n",
    "text = test_tta.replace_tag_ssml(text)\n",
    "print(text)\n",
    "\n",
    "text = 'Title: Around the World in Eighty Days'\n",
    "text = test_tta.insert_tag_title(text)\n",
    "print(text)\n",
    "text = test_tta.replace_tag_ssml(text)\n",
    "print(text)\n",
    "\n",
    "text = 'Author: Jules Verne'\n",
    "text = test_tta.insert_tag_title(text)\n",
    "print(text)\n",
    "text = test_tta.replace_tag_ssml(text)\n",
    "print(text)"
   ]
  },
  {
   "cell_type": "code",
   "execution_count": 107,
   "id": "447ac416",
   "metadata": {},
   "outputs": [
    {
     "name": "stdout",
     "output_type": "stream",
     "text": [
      "Clean: 41 lines\n",
      "./test/project_file/clean/test_text.txt\n"
     ]
    }
   ],
   "source": [
    "# Clean raw file and copy to clean folder\n",
    "print(test_tta.clean_txt_raw(\"test_text.txt\"))"
   ]
  },
  {
   "cell_type": "code",
   "execution_count": 108,
   "id": "c9333d1f",
   "metadata": {},
   "outputs": [
    {
     "name": "stdout",
     "output_type": "stream",
     "text": [
      "Clean: 41 lines\n",
      "./test/project_file/tag/test_text.txt\n"
     ]
    }
   ],
   "source": [
    "# Tag speech in clean file and copy to tag folder\n",
    "print(test_tta.tag_txt_clean(\"test_text.txt\"))"
   ]
  },
  {
   "cell_type": "code",
   "execution_count": 110,
   "id": "92f76be0",
   "metadata": {},
   "outputs": [
    {
     "name": "stdout",
     "output_type": "stream",
     "text": [
      "Line1 / 84: <prosody rate=\"x-slow\" pitch=\"-2st\">Title: Around the World in Eighty Days</prosody>\n",
      "Line2 / 108: <break strength=\"weak\"/>\n",
      "Line3 / 173: <prosody rate=\"x-slow\" pitch=\"-2st\">Author: Jules Verne</prosody>\n",
      "Line4 / 197: <break strength=\"weak\"/>\n",
      "Line5 / 221: <break strength=\"weak\"/>\n",
      "Line6 / 74: [[-chapter_break-]]\n",
      "<prosody rate=\"slow\" pitch=\"-2st\">CHAPTER 1.</prosody>\n",
      "Line7 / 142: IN WHICH PHILEAS FOGG AND PASSEPARTOUT ACCEPT EACH OTHER, THE ONE AS\n",
      "Line8 / 166: MASTER, THE OTHER AS MAN\n",
      "Line9 / 190: <break strength=\"weak\"/>\n",
      "Line10 / 214: <break strength=\"weak\"/>\n",
      "Line11 / 280: Mr. Phileas Fogg lived, in 1872, at No. 7, Saville Row, Burlington\n",
      "Line12 / 348: Gardens, the house in which Sheridan died in 1814. He was one of the\n",
      "Line13 / 418: most noticeable members of the Reform Club, though he seemed always to\n",
      "Line14 / 445: avoid attracting attention;\n",
      "Line15 / 469: <break strength=\"weak\"/>\n",
      "Line16 / 74: [[-chapter_break-]]\n",
      "<prosody rate=\"slow\" pitch=\"-2st\">CHAPTER 2.</prosody>\n",
      "Line17 / 144: IN WHICH PASSEPARTOUT IS CONVINCED THAT HE HAS AT LAST FOUND HIS IDEAL\n",
      "Line18 / 168: <break strength=\"weak\"/>\n",
      "Line19 / 192: <break strength=\"weak\"/>\n",
      "Line20 / 297: <emphasis level=\"strong\">Faith?</emphasis> muttered Passepartout, somewhat flurried, “1’ve seen people at\n",
      "Line21 / 342: Madame Tussaud’s as lively as my new master!”\n",
      "Line22 / 366: <break strength=\"weak\"/>\n",
      "Line23 / 468: Madame Tussaud’s <emphasis level=\"moderate\">people</emphasis> let it be said, are of wax, and are much\n",
      "Line24 / 73: visited in London;\n",
      "[[-character_break-]]\n",
      " speech is all that is wanting to make them human.\n",
      "Line25 / 97: <break strength=\"weak\"/>\n",
      "Line26 / 121: <break strength=\"weak\"/>\n",
      "Line27 / 75: [[-chapter_break-]]\n",
      "<prosody rate=\"slow\" pitch=\"-2st\">CHAPTER 32.</prosody>\n",
      "Line28 / 142: IN WHICH PHILEAS FOGG ENGAGES IN A DIRECT STRUGGLE WITH BAD FORTUNE\n",
      "Line29 / 166: <break strength=\"weak\"/>\n",
      "Line30 / 190: <break strength=\"weak\"/>\n",
      "Line31 / 296: The <emphasis level=\"moderate\">China</emphasis> in leaving, seemed to have carried off Phileas Fogg’s last\n",
      "Line32 / 361: hope. None of the other steamers were able to serve his projects.\n",
      "Line33 / 385: <break strength=\"weak\"/>\n",
      "Line34 / 409: <break strength=\"weak\"/>\n",
      "Line35 / 433: <break strength=\"weak\"/>\n",
      "Line36 / 72: [[-chapter_break-]]\n",
      "<prosody rate=\"slow\" pitch=\"-2st\">Epilogue</prosody>\n",
      "Line37 / 96: <break strength=\"weak\"/>\n",
      "Line38 / 179: <emphasis level=\"moderate\">AND 1 ONLY AM ESCAPED ALONE TO TELL THEE</emphasis> Job.\n",
      "Line39 / 203: <break strength=\"weak\"/>\n",
      "Line40 / 271: The drama’s done. Why then here does any one step forth?—Because one\n",
      "Line41 / 293: did survive the wreck.\n",
      "./test/project_file/break/test_text.txt\n"
     ]
    }
   ],
   "source": [
    "from TextToAudiobook import *\n",
    "test_tta = TextToAudiobook(\"test\")\n",
    "\n",
    "print(test_tta.break_txt_tag(\"test_text.txt\"))"
   ]
  },
  {
   "cell_type": "code",
   "execution_count": null,
   "id": "ea4d90af",
   "metadata": {},
   "outputs": [],
   "source": []
  }
 ],
 "metadata": {
  "kernelspec": {
   "display_name": "Python 3 (ipykernel)",
   "language": "python",
   "name": "python3"
  },
  "language_info": {
   "codemirror_mode": {
    "name": "ipython",
    "version": 3
   },
   "file_extension": ".py",
   "mimetype": "text/x-python",
   "name": "python",
   "nbconvert_exporter": "python",
   "pygments_lexer": "ipython3",
   "version": "3.9.12"
  }
 },
 "nbformat": 4,
 "nbformat_minor": 5
}
