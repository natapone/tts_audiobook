{
 "cells": [
  {
   "cell_type": "markdown",
   "id": "f6ad255c",
   "metadata": {},
   "source": [
    "Steps\n",
    "- fetch full text file\n",
    "- clean unreadable string eg Roman number\n",
    "- tag SSML\n",
    "- insert chapter break\n",
    "- insert charactor limit break\n",
    "- split into small files per api call\n",
    "- convert with tts service\n",
    "- fix each file to improve reading"
   ]
  },
  {
   "cell_type": "code",
   "execution_count": 1,
   "id": "0d0778d6",
   "metadata": {},
   "outputs": [],
   "source": [
    "%load_ext autoreload\n",
    "%reload_ext autoreload\n",
    "%autoreload 2"
   ]
  },
  {
   "cell_type": "code",
   "execution_count": 5,
   "id": "e763cc3d",
   "metadata": {},
   "outputs": [
    {
     "name": "stdout",
     "output_type": "stream",
     "text": [
      "CHAPTER 1. CHAPTER 23.\n",
      "CHAPTER I CHAPTER XXIII\n",
      "CHAPTER 38.\n",
      " 3 1000ay. Bistritz. --Left 1000unich at 8:35 P. 1000.\n",
      "True\n",
      "True\n",
      "True\n",
      "True\n",
      "8\n",
      "True\n",
      "[[-header_begin-]]CHAPTER I.[[-header_end-]]\n",
      "<emphasis level=\"moderate\">CHAPTER I.</emphasis>\n",
      "[[-break_weak-]]\n",
      "\n",
      "<break time=\"600ms\"/>\n",
      "\n",
      "xxx [[-emphasis_strong-]]Faith?[[-emphasis_end-]] muttered [[-emphasis_strong-]]Faith![[-emphasis_end-]] Passepartout\n",
      "xxx <emphasis level=\"strong\">Faith?</emphasis> muttered <emphasis level=\"strong\">Faith!</emphasis> Passepartout\n",
      "[[-emphasis_moderate-]]You are a Frenchman I believe[[-emphasis_end-]] asked Phileas Fogg, [[-emphasis_strong-]]and your name is John?[[-emphasis_end-]]\n",
      "<emphasis level=\"moderate\">You are a Frenchman I believe</emphasis> asked Phileas Fogg, <emphasis level=\"strong\">and your name is John?</emphasis>\n",
      "[[-emphasis_moderate-]]my name is John[[-emphasis_end-]] I said, [[-emphasis_moderate-]]my name is John[[-emphasis_end-]]\n",
      "<emphasis level=\"moderate\">my name is John</emphasis> I said, <emphasis level=\"moderate\">my name is John</emphasis>\n",
      " This is incompleted quote\n",
      "[[-title_begin-]]Title: Around the World in Eighty Days[[-title_end-]]\n",
      "<emphasis level=\"strong\">Title: Around the World in Eighty Days</emphasis>\n",
      "[[-title_begin-]]Author: Jules Verne[[-title_end-]]\n",
      "<emphasis level=\"strong\">Author: Jules Verne</emphasis>\n",
      "test_text_txt\n",
      "0:00:00 Chapter 1\n",
      "0:00:34 Chaptor 2\n",
      "0:01:01 Chaptor 3\n",
      "0:01:19 Chaptor 4\n",
      "profound.\" \"Stronger, more evil, and more profound?\" I asked in horror.\n",
      "profound.\" \"Stronger, more evil, and more profound?\" I asked in horror.\n",
      "Dr. Jekyll Was Quite At Ease\n"
     ]
    }
   ],
   "source": [
    "from TextToAudiobook import *\n",
    "\n",
    "test_tta = TextToAudiobook(\"test\", char_limit_per_call=500)\n",
    "\n",
    "# read raw file\n",
    "# print(test_tta.read_txt_raw(\"test_text.txt\"))\n",
    "\n",
    "# Clean roman numbers\n",
    "text = \"CHAPTER I. CHAPTER XXIII.\"\n",
    "print(test_tta.clean_roman_num_in_string(text))\n",
    "\n",
    "# Not convert without fullstop\n",
    "text = \"CHAPTER I CHAPTER XXIII\"\n",
    "print(test_tta.clean_roman_num_in_string(text))\n",
    "\n",
    "text = \"CHAPTER XXXVIII.\"\n",
    "print(test_tta.clean_roman_num_in_string(text))\n",
    "\n",
    "text = \" 3 May. Bistritz. --Left Munich at 8:35 P. M.\"\n",
    "print(test_tta.clean_roman_num_in_string(text))\n",
    "\n",
    "# Insert chapter break\n",
    "text = \"CHAPTER 23.\"\n",
    "print(test_tta.is_chapter_header(text))\n",
    "\n",
    "text = \"CHAPTER XII.\"\n",
    "print(test_tta.is_chapter_header(text))\n",
    "\n",
    "text = \"CHAPTER XXXVIII.\"\n",
    "print(test_tta.is_chapter_header(text))\n",
    "\n",
    "text = \"[[-header_begin-]]CHAPTER 2.[[-header_end-]]\"\n",
    "print(test_tta.is_chapter_header(text))\n",
    "\n",
    "# Insert charactor limit break\n",
    "text = \"“Faith,” muttered Passepartout, somewhat flurried, “I’ve seen people at\"\n",
    "print(test_tta.get_line_break(text))\n",
    "\n",
    "# Check Book title\n",
    "text = \"Title: Around the World in Eighty Days\"\n",
    "print(test_tta.is_book_title(text))\n",
    "\n",
    "# tags\n",
    "# - Header\n",
    "# - new paragraph break\n",
    "# - emphasis strong\n",
    "# - emphasis mid\n",
    "\n",
    "text = \"CHAPTER I.\"\n",
    "text = test_tta.insert_tag_header(text)\n",
    "print(text)\n",
    "text = test_tta.replace_tag_ssml(text)\n",
    "print(text)\n",
    "\n",
    "text = \"\\n\"\n",
    "text = test_tta.insert_tag_paragraph_break(text)\n",
    "print(text)\n",
    "text = test_tta.replace_tag_ssml(text)\n",
    "print(text)\n",
    "\n",
    "text = 'xxx “Faith?,” muttered \"Faith!\" Passepartout'\n",
    "text = test_tta.insert_tag_emphasis(text)\n",
    "print(text)\n",
    "text = test_tta.replace_tag_ssml(text)\n",
    "print(text)\n",
    "\n",
    "text = '“You are a Frenchman, I believe,” asked Phileas Fogg, “and your name is John?”'\n",
    "text = test_tta.insert_tag_emphasis(text)\n",
    "print(text)\n",
    "text = test_tta.replace_tag_ssml(text)\n",
    "print(text)\n",
    "\n",
    "text = '\"my name is John\" I said, \"my name is John\"'\n",
    "text = test_tta.insert_tag_emphasis(text)\n",
    "print(text)\n",
    "text = test_tta.replace_tag_ssml(text)\n",
    "print(text)\n",
    "\n",
    "text = '\"This is incompleted quote'\n",
    "text = test_tta.insert_tag_emphasis(text)\n",
    "print(text)\n",
    "\n",
    "text = 'Title: Around the World in Eighty Days'\n",
    "text = test_tta.insert_tag_title(text)\n",
    "print(text)\n",
    "text = test_tta.replace_tag_ssml(text)\n",
    "print(text)\n",
    "\n",
    "text = 'Author: Jules Verne'\n",
    "text = test_tta.insert_tag_title(text)\n",
    "print(text)\n",
    "text = test_tta.replace_tag_ssml(text)\n",
    "print(text)\n",
    "\n",
    "file_name = \"test_text.txt\"\n",
    "print(test_tta.file_to_folder_name(file_name))\n",
    "\n",
    "file_name = \"test_text.txt\"\n",
    "print(test_tta.gen_youtube_chapter_marker(file_name))\n",
    "\n",
    "text = 'profound.\" \"Stronger, more evil, and more profound?\" I asked in horror.'\n",
    "text = test_tta.insert_tag_title(text)\n",
    "print(text)\n",
    "text = test_tta.replace_tag_ssml(text)\n",
    "print(text)\n",
    "\n",
    "\n",
    "text = 'DR. JEKYLL WAS QUITE AT EASE'\n",
    "text = test_tta.fix_all_upper(text)\n",
    "print(text)"
   ]
  },
  {
   "cell_type": "code",
   "execution_count": 27,
   "id": "aecb6283",
   "metadata": {},
   "outputs": [
    {
     "name": "stdout",
     "output_type": "stream",
     "text": [
      "Generate track list: ./test/project_file/audio/test_text_txt/track_list.txt [total: 6 files]\n",
      "Generate full audio: ./test/project_file/audio/test_text_txt.mp3\n",
      "./test/project_file/audio/test_text_txt.mp3\n"
     ]
    },
    {
     "name": "stderr",
     "output_type": "stream",
     "text": [
      "ffmpeg version 5.1.2 Copyright (c) 2000-2022 the FFmpeg developers\n",
      "  built with Apple clang version 14.0.0 (clang-1400.0.29.102)\n",
      "  configuration: --prefix=/usr/local/Cellar/ffmpeg/5.1.2 --enable-shared --enable-pthreads --enable-version3 --cc=clang --host-cflags= --host-ldflags= --enable-ffplay --enable-gnutls --enable-gpl --enable-libaom --enable-libbluray --enable-libdav1d --enable-libmp3lame --enable-libopus --enable-librav1e --enable-librist --enable-librubberband --enable-libsnappy --enable-libsrt --enable-libtesseract --enable-libtheora --enable-libvidstab --enable-libvmaf --enable-libvorbis --enable-libvpx --enable-libwebp --enable-libx264 --enable-libx265 --enable-libxml2 --enable-libxvid --enable-lzma --enable-libfontconfig --enable-libfreetype --enable-frei0r --enable-libass --enable-libopencore-amrnb --enable-libopencore-amrwb --enable-libopenjpeg --enable-libspeex --enable-libsoxr --enable-libzmq --enable-libzimg --disable-libjack --disable-indev=jack --enable-videotoolbox\n",
      "  libavutil      57. 28.100 / 57. 28.100\n",
      "  libavcodec     59. 37.100 / 59. 37.100\n",
      "  libavformat    59. 27.100 / 59. 27.100\n",
      "  libavdevice    59.  7.100 / 59.  7.100\n",
      "  libavfilter     8. 44.100 /  8. 44.100\n",
      "  libswscale      6.  7.100 /  6.  7.100\n",
      "  libswresample   4.  7.100 /  4.  7.100\n",
      "  libpostproc    56.  6.100 / 56.  6.100\n",
      "[mp3 @ 0x7fd7fd904f80] Estimating duration from bitrate, this may be inaccurate\n",
      "Input #0, concat, from './test/project_file/audio/test_text_txt/track_list.txt':\n",
      "  Duration: N/A, start: 0.000000, bitrate: 32 kb/s\n",
      "  Stream #0:0: Audio: mp3, 24000 Hz, mono, fltp, 32 kb/s\n",
      "Output #0, mp3, to './test/project_file/audio/test_text_txt.mp3':\n",
      "  Metadata:\n",
      "    TSSE            : Lavf59.27.100\n",
      "  Stream #0:0: Audio: mp3, 24000 Hz, mono, fltp, 32 kb/s\n",
      "Stream mapping:\n",
      "  Stream #0:0 -> #0:0 (copy)\n",
      "Press [q] to stop, [?] for help\n",
      "size=       0kB time=00:00:00.02 bitrate= 111.0kbits/s speed=N/A    \r",
      "[mp3 @ 0x7fd7fcf04e40] Estimating duration from bitrate, this may be inaccurate\n",
      "[mp3 @ 0x7fd7fda04840] Estimating duration from bitrate, this may be inaccurate\n",
      "    Last message repeated 3 times\n",
      "size=     359kB time=00:01:31.82 bitrate=  32.0kbits/s speed=3.46e+03x    \n",
      "video:0kB audio:359kB subtitle:0kB other streams:0kB global headers:0kB muxing overhead: 0.064526%\n"
     ]
    }
   ],
   "source": [
    "# Merge audio files => full length\n",
    "from TextToAudiobook import *\n",
    "\n",
    "test_tta = TextToAudiobook(\"test\", char_limit_per_call=500)\n",
    "\n",
    "file_name = \"test_text.txt\"\n",
    "print(test_tta.merge_audio_files(file_name))\n"
   ]
  },
  {
   "cell_type": "code",
   "execution_count": 32,
   "id": "e96bba9a",
   "metadata": {},
   "outputs": [
    {
     "name": "stderr",
     "output_type": "stream",
     "text": [
      "ffmpeg version 5.1.2 Copyright (c) 2000-2022 the FFmpeg developers\n",
      "  built with Apple clang version 14.0.0 (clang-1400.0.29.102)\n",
      "  configuration: --prefix=/usr/local/Cellar/ffmpeg/5.1.2 --enable-shared --enable-pthreads --enable-version3 --cc=clang --host-cflags= --host-ldflags= --enable-ffplay --enable-gnutls --enable-gpl --enable-libaom --enable-libbluray --enable-libdav1d --enable-libmp3lame --enable-libopus --enable-librav1e --enable-librist --enable-librubberband --enable-libsnappy --enable-libsrt --enable-libtesseract --enable-libtheora --enable-libvidstab --enable-libvmaf --enable-libvorbis --enable-libvpx --enable-libwebp --enable-libx264 --enable-libx265 --enable-libxml2 --enable-libxvid --enable-lzma --enable-libfontconfig --enable-libfreetype --enable-frei0r --enable-libass --enable-libopencore-amrnb --enable-libopencore-amrwb --enable-libopenjpeg --enable-libspeex --enable-libsoxr --enable-libzmq --enable-libzimg --disable-libjack --disable-indev=jack --enable-videotoolbox\n",
      "  libavutil      57. 28.100 / 57. 28.100\n",
      "  libavcodec     59. 37.100 / 59. 37.100\n",
      "  libavformat    59. 27.100 / 59. 27.100\n",
      "  libavdevice    59.  7.100 / 59.  7.100\n",
      "  libavfilter     8. 44.100 /  8. 44.100\n",
      "  libswscale      6.  7.100 /  6.  7.100\n",
      "  libswresample   4.  7.100 /  4.  7.100\n",
      "  libpostproc    56.  6.100 / 56.  6.100\n",
      "Input #0, png_pipe, from './test/project_file/image/test_text_txt.png':\n",
      "  Duration: N/A, bitrate: N/A\n",
      "  Stream #0:0: Video: png, rgb24(pc), 1280x720 [SAR 11811:11811 DAR 16:9], 25 fps, 25 tbr, 25 tbn\n",
      "Input #1, mp3, from './test/project_file/audio/test_text_txt.mp3':\n",
      "  Metadata:\n",
      "    encoder         : Lavf59.27.100\n",
      "  Duration: 00:01:31.82, start: 0.022042, bitrate: 32 kb/s\n",
      "  Stream #1:0: Audio: mp3, 24000 Hz, mono, fltp, 32 kb/s\n",
      "Stream mapping:\n",
      "  Stream #0:0 -> #0:0 (png (native) -> h264 (libx264))\n",
      "  Stream #1:0 -> #0:1 (mp3 (mp3float) -> aac (native))\n",
      "Press [q] to stop, [?] for help\n",
      "[libx264 @ 0x7fd4c1006980] using SAR=1/1\n",
      "[libx264 @ 0x7fd4c1006980] using cpu capabilities: MMX2 SSE2Fast SSSE3 SSE4.2 AVX FMA3 BMI2 AVX2\n",
      "[libx264 @ 0x7fd4c1006980] profile High, level 3.1, 4:2:0, 8-bit\n",
      "[libx264 @ 0x7fd4c1006980] 264 - core 164 r3095 baee400 - H.264/MPEG-4 AVC codec - Copyleft 2003-2022 - http://www.videolan.org/x264.html - options: cabac=1 ref=3 deblock=1:-3:-3 analyse=0x3:0x113 me=hex subme=7 psy=1 psy_rd=2.00:0.70 mixed_ref=1 me_range=16 chroma_me=1 trellis=1 8x8dct=1 cqm=0 deadzone=21,11 fast_pskip=1 chroma_qp_offset=-4 threads=12 lookahead_threads=2 sliced_threads=0 nr=0 decimate=1 interlaced=0 bluray_compat=0 constrained_intra=0 bframes=3 b_pyramid=2 b_adapt=1 b_bias=0 direct=1 weightb=1 open_gop=0 weightp=2 keyint=250 keyint_min=25 scenecut=40 intra_refresh=0 rc_lookahead=40 rc=crf mbtree=1 crf=23.0 qcomp=0.60 qpmin=0 qpmax=69 qpstep=4 ip_ratio=1.40 aq=1:1.20\n",
      "[aac @ 0x7fd4c1007180] Too many bits 8192.000000 > 6144 per frame requested, clamping to max\n",
      "Output #0, mp4, to './test/project_file/video/test_text_txt.mp4':\n",
      "  Metadata:\n",
      "    encoder         : Lavf59.27.100\n",
      "  Stream #0:0: Video: h264 (avc1 / 0x31637661), yuv420p(tv, progressive), 1280x720 [SAR 1:1 DAR 16:9], q=2-31, 25 fps, 12800 tbn\n",
      "    Metadata:\n",
      "      encoder         : Lavc59.37.100 libx264\n",
      "    Side data:\n",
      "      cpb: bitrate max/min/avg: 0/0/0 buffer size: 0 vbv_delay: N/A\n",
      "  Stream #0:1: Audio: aac (LC) (mp4a / 0x6134706D), 24000 Hz, mono, fltp, 144 kb/s\n",
      "    Metadata:\n",
      "      encoder         : Lavc59.37.100 aac\n",
      "frame= 2341 fps=129 q=28.0 size=    3328kB time=00:01:31.30 bitrate= 298.6kbits/s speed=5.02x    \r"
     ]
    },
    {
     "name": "stdout",
     "output_type": "stream",
     "text": [
      "Generate full video: ./test/project_file/video/test_text_txt.mp4\n",
      "./test/project_file/video/test_text_txt.mp4\n"
     ]
    },
    {
     "name": "stderr",
     "output_type": "stream",
     "text": [
      "frame= 2352 fps=128 q=-1.0 Lsize=    3565kB time=00:01:33.96 bitrate= 310.8kbits/s speed=5.09x    \n",
      "video:2396kB audio:1111kB subtitle:0kB other streams:0kB global headers:0kB muxing overhead: 1.640818%\n",
      "[libx264 @ 0x7fd4c1006980] frame I:10    Avg QP:12.23  size:187527\n",
      "[libx264 @ 0x7fd4c1006980] frame P:593   Avg QP:13.48  size:   611\n",
      "[libx264 @ 0x7fd4c1006980] frame B:1749  Avg QP:26.84  size:   123\n",
      "[libx264 @ 0x7fd4c1006980] consecutive B-frames:  0.9%  0.0%  0.0% 99.1%\n",
      "[libx264 @ 0x7fd4c1006980] mb I  I16..4: 13.7% 49.2% 37.1%\n",
      "[libx264 @ 0x7fd4c1006980] mb P  I16..4:  0.0%  0.0%  0.0%  P16..4:  1.8%  0.2%  0.3%  0.0%  0.0%    skip:97.7%\n",
      "[libx264 @ 0x7fd4c1006980] mb B  I16..4:  0.0%  0.0%  0.0%  B16..8:  2.7%  0.0%  0.0%  direct: 0.0%  skip:97.2%  L0:59.4% L1:40.4% BI: 0.2%\n",
      "[libx264 @ 0x7fd4c1006980] 8x8 transform intra:49.4% inter:88.9%\n",
      "[libx264 @ 0x7fd4c1006980] coded y,uvDC,uvAC intra: 95.6% 99.2% 98.4% inter: 0.3% 0.1% 0.0%\n",
      "[libx264 @ 0x7fd4c1006980] i16 v,h,dc,p:  6%  1%  1% 92%\n",
      "[libx264 @ 0x7fd4c1006980] i8 v,h,dc,ddl,ddr,vr,hd,vl,hu: 28% 10% 17% 10%  5%  8%  4% 10%  7%\n",
      "[libx264 @ 0x7fd4c1006980] i4 v,h,dc,ddl,ddr,vr,hd,vl,hu: 19% 12% 11% 11%  9%  9%  8% 10% 10%\n",
      "[libx264 @ 0x7fd4c1006980] i8c dc,h,v,p: 48% 14% 21% 16%\n",
      "[libx264 @ 0x7fd4c1006980] Weighted P-Frames: Y:0.0% UV:0.0%\n",
      "[libx264 @ 0x7fd4c1006980] ref P L0: 70.1%  0.1% 27.4%  2.3%\n",
      "[libx264 @ 0x7fd4c1006980] ref B L0: 50.5% 49.1%  0.4%\n",
      "[libx264 @ 0x7fd4c1006980] ref B L1: 97.4%  2.6%\n",
      "[libx264 @ 0x7fd4c1006980] kb/s:208.58\n",
      "[aac @ 0x7fd4c1007180] Qavg: 65310.656\n"
     ]
    }
   ],
   "source": [
    "# Audio + Image => Video\n",
    "\n",
    "file_name = \"test_text.txt\"\n",
    "print(test_tta.merge_video_file(file_name))\n"
   ]
  },
  {
   "cell_type": "code",
   "execution_count": 23,
   "id": "b064c00b",
   "metadata": {},
   "outputs": [
    {
     "name": "stdout",
     "output_type": "stream",
     "text": [
      "Clean: 41 lines\n",
      "./test/project_file/clean/test_text.txt\n"
     ]
    }
   ],
   "source": [
    "# Clean raw file and copy to clean folder\n",
    "print(test_tta.clean_txt_raw(\"test_text.txt\"))"
   ]
  },
  {
   "cell_type": "code",
   "execution_count": 294,
   "id": "8b1749a0",
   "metadata": {},
   "outputs": [
    {
     "name": "stdout",
     "output_type": "stream",
     "text": [
      "Tag: 41 lines\n",
      "./test/project_file/tag/test_text.txt\n"
     ]
    }
   ],
   "source": [
    "# Tag speech in clean file and copy to tag folder\n",
    "print(test_tta.tag_txt_clean(\"test_text.txt\"))"
   ]
  },
  {
   "cell_type": "code",
   "execution_count": 295,
   "id": "92f76be0",
   "metadata": {},
   "outputs": [
    {
     "name": "stdout",
     "output_type": "stream",
     "text": [
      "Break: 41 lines\n",
      "./test/project_file/break/test_text.txt\n"
     ]
    }
   ],
   "source": [
    "# Mark break point by chapter and characters limit\n",
    "print(test_tta.break_txt_tag(\"test_text.txt\"))"
   ]
  },
  {
   "cell_type": "code",
   "execution_count": 296,
   "id": "b87c29d0",
   "metadata": {},
   "outputs": [
    {
     "name": "stdout",
     "output_type": "stream",
     "text": [
      "Split: 6 files\n",
      "./test/project_file/split/test_text_txt/\n"
     ]
    }
   ],
   "source": [
    "# Split into files by chapter and characters break\n",
    "print(test_tta.split_txt_break(\"test_text.txt\"))"
   ]
  },
  {
   "cell_type": "code",
   "execution_count": 297,
   "id": "09e5a9e9",
   "metadata": {},
   "outputs": [
    {
     "name": "stdout",
     "output_type": "stream",
     "text": [
      "Generate audio => ./test/project_file/audio/test_text_txt/0000_001.mp3\n",
      "Generate audio => ./test/project_file/audio/test_text_txt/0001_001.mp3\n",
      "Synthesize: 2 files\n",
      "./test/project_file/audio/test_text_txt/\n",
      "Generate audio => ./test/project_file/audio/test_text_txt/0002_001.mp3\n",
      "Generate audio => ./test/project_file/audio/test_text_txt/0002_002.mp3\n",
      "Generate audio => ./test/project_file/audio/test_text_txt/0003_001.mp3\n",
      "Generate audio => ./test/project_file/audio/test_text_txt/0004_001.mp3\n",
      "Synthesize: 4 files\n",
      "./test/project_file/audio/test_text_txt/\n"
     ]
    }
   ],
   "source": [
    "# Split into files by chapter and characters break\n",
    "print(test_tta.synthesize_txt_split(\"test_text.txt\", file_limit=2))\n",
    "print(test_tta.synthesize_txt_split(\"test_text.txt\"))"
   ]
  },
  {
   "cell_type": "code",
   "execution_count": 24,
   "id": "6796870f",
   "metadata": {},
   "outputs": [
    {
     "name": "stdout",
     "output_type": "stream",
     "text": [
      "Generate subtitle file:  ./test/project_file/audio/test_text_txt.srt\n",
      "./test/project_file/audio/test_text_txt.srt\n"
     ]
    }
   ],
   "source": [
    "# Merge audio files => full length\n",
    "from TextToAudiobook import *\n",
    "\n",
    "test_tta = TextToAudiobook(\"test\", char_limit_per_call=500)\n",
    "\n",
    "file_name = \"test_text.txt\"\n",
    "print(test_tta.gen_srt_subtitle(file_name))\n"
   ]
  },
  {
   "cell_type": "code",
   "execution_count": 300,
   "id": "c1fbd8c0",
   "metadata": {},
   "outputs": [],
   "source": [
    "from TextToAudiobook import *\n",
    "test_tta = TextToAudiobook(\"test\")\n",
    "\n",
    "text = '''\n",
    "<speak>\n",
    "<prosody rate=\"slow\" pitch=\"-2st\">Title: Around the World in Eighty Days</prosody>\n",
    "<break strength=\"weak\"/>\n",
    "<prosody rate=\"slow\" pitch=\"-2st\">Author: Jules Verne</prosody>\n",
    "<break time=\"500ms\" strength=\"weak\"/>\n",
    "<break time=\"500ms\"/>\n",
    "on Saturday, the 21st of December, 1872, at a quarter\n",
    "before nine p.m. Good-bye, gentlemen.”\n",
    "“Left London, Wednesday, October 2nd, at 8.45 p.m.”\n",
    "“Reached Paris, Thursday, October 3rd, at 7.20 a.m.”\n",
    "<prosody rate=\"slow\" pitch=\"-2st\">CHAPTER 1.</prosody>\n",
    "IN WHICH Phileas Fogg AND Passepartout ACCEPT EACH OTHER, THE ONE as\n",
    "MASTER, THE OTHER as MAN\n",
    "<break time=\"500ms\"/>\n",
    "<break time=\"500ms\"/>\n",
    "Mr. Phileas Fogg lived, in 1872, at No. 7, Saville Row, Burlington\n",
    "Gardens, the house in which Sheridan died in 1814. He was one of the\n",
    "most noticeable members of the Reform Club, though he seemed always to\n",
    "avoid attracting attention;\n",
    "<break time=\"500ms\"/>\n",
    "</speak>\n",
    "'''\n",
    "\n"
   ]
  },
  {
   "cell_type": "code",
   "execution_count": 281,
   "id": "7a57350f",
   "metadata": {},
   "outputs": [
    {
     "name": "stdout",
     "output_type": "stream",
     "text": [
      "Generate audio => output_v1.mp3\n"
     ]
    },
    {
     "data": {
      "text/plain": [
       "1"
      ]
     },
     "execution_count": 281,
     "metadata": {},
     "output_type": "execute_result"
    }
   ],
   "source": [
    "# Test voices\n",
    "voice = texttospeech.VoiceSelectionParams(\n",
    "    language_code=\"en-GB\",\n",
    "    name=\"en-GB-Neural2-B\",\n",
    "    ssml_gender=texttospeech.SsmlVoiceGender.MALE,\n",
    ")\n",
    "\n",
    "audio_config = texttospeech.AudioConfig(\n",
    "    audio_encoding=texttospeech.AudioEncoding.MP3,\n",
    "    speaking_rate=0.8\n",
    ")\n",
    "test_tta.synthesize_ssml(text, \"output_v1.mp3\", voice, audio_config)\n"
   ]
  },
  {
   "cell_type": "code",
   "execution_count": 301,
   "id": "b992bd6f",
   "metadata": {},
   "outputs": [
    {
     "name": "stdout",
     "output_type": "stream",
     "text": [
      "Generate audio => output_v2.mp3\n"
     ]
    },
    {
     "data": {
      "text/plain": [
       "1"
      ]
     },
     "execution_count": 301,
     "metadata": {},
     "output_type": "execute_result"
    }
   ],
   "source": [
    "voice = texttospeech.VoiceSelectionParams(\n",
    "    language_code=\"en-GB\",\n",
    "    name=\"en-GB-News-K\",\n",
    "    ssml_gender=texttospeech.SsmlVoiceGender.MALE,\n",
    ")\n",
    "\n",
    "audio_config = texttospeech.AudioConfig(\n",
    "    audio_encoding=texttospeech.AudioEncoding.MP3,\n",
    "    speaking_rate=0.8\n",
    ")\n",
    "test_tta.synthesize_ssml(text, \"output_v2.mp3\", voice, audio_config)"
   ]
  },
  {
   "cell_type": "code",
   "execution_count": 273,
   "id": "04c1297d",
   "metadata": {},
   "outputs": [
    {
     "name": "stdout",
     "output_type": "stream",
     "text": [
      "Generate audio => output_v3.mp3\n"
     ]
    },
    {
     "data": {
      "text/plain": [
       "1"
      ]
     },
     "execution_count": 273,
     "metadata": {},
     "output_type": "execute_result"
    }
   ],
   "source": [
    "voice = texttospeech.VoiceSelectionParams(\n",
    "    language_code=\"en-GB\",\n",
    "    name=\"en-GB-News-I\",\n",
    "    ssml_gender=texttospeech.SsmlVoiceGender.FEMALE,\n",
    ")\n",
    "\n",
    "audio_config = texttospeech.AudioConfig(\n",
    "    audio_encoding=texttospeech.AudioEncoding.MP3,\n",
    "    speaking_rate=1\n",
    ")\n",
    "test_tta.synthesize_ssml(text, \"output_v3.mp3\", voice, audio_config)"
   ]
  },
  {
   "cell_type": "code",
   "execution_count": 274,
   "id": "07aef090",
   "metadata": {},
   "outputs": [
    {
     "name": "stdout",
     "output_type": "stream",
     "text": [
      "Generate audio => output_v4.mp3\n"
     ]
    },
    {
     "data": {
      "text/plain": [
       "1"
      ]
     },
     "execution_count": 274,
     "metadata": {},
     "output_type": "execute_result"
    }
   ],
   "source": [
    "voice = texttospeech.VoiceSelectionParams(\n",
    "    language_code=\"en-US\",\n",
    "    name=\"en-US-Neural2-C\",\n",
    "    ssml_gender=texttospeech.SsmlVoiceGender.FEMALE,\n",
    ")\n",
    "\n",
    "audio_config = texttospeech.AudioConfig(\n",
    "    audio_encoding=texttospeech.AudioEncoding.MP3,\n",
    "    speaking_rate=1\n",
    ")\n",
    "test_tta.synthesize_ssml(text, \"output_v4.mp3\", voice, audio_config)"
   ]
  },
  {
   "cell_type": "code",
   "execution_count": 277,
   "id": "51485e5b",
   "metadata": {},
   "outputs": [
    {
     "name": "stdout",
     "output_type": "stream",
     "text": [
      "Generate audio => output_v5.mp3\n"
     ]
    },
    {
     "data": {
      "text/plain": [
       "1"
      ]
     },
     "execution_count": 277,
     "metadata": {},
     "output_type": "execute_result"
    }
   ],
   "source": [
    "voice = texttospeech.VoiceSelectionParams(\n",
    "    language_code=\"en-US\",\n",
    "    name=\"en-US-News-L\",\n",
    "    ssml_gender=texttospeech.SsmlVoiceGender.FEMALE,\n",
    ")\n",
    "\n",
    "audio_config = texttospeech.AudioConfig(\n",
    "    audio_encoding=texttospeech.AudioEncoding.MP3,\n",
    "    speaking_rate=1\n",
    ")\n",
    "test_tta.synthesize_ssml(text, \"output_v5.mp3\", voice, audio_config)"
   ]
  },
  {
   "cell_type": "code",
   "execution_count": 278,
   "id": "239bbb46",
   "metadata": {},
   "outputs": [
    {
     "name": "stdout",
     "output_type": "stream",
     "text": [
      "Generate audio => output_v6.mp3\n"
     ]
    },
    {
     "data": {
      "text/plain": [
       "1"
      ]
     },
     "execution_count": 278,
     "metadata": {},
     "output_type": "execute_result"
    }
   ],
   "source": [
    "voice = texttospeech.VoiceSelectionParams(\n",
    "    language_code=\"en-US\",\n",
    "    name=\"en-US-News-M\",\n",
    "    ssml_gender=texttospeech.SsmlVoiceGender.MALE,\n",
    ")\n",
    "\n",
    "audio_config = texttospeech.AudioConfig(\n",
    "    audio_encoding=texttospeech.AudioEncoding.MP3,\n",
    "    speaking_rate=1\n",
    ")\n",
    "test_tta.synthesize_ssml(text, \"output_v6.mp3\", voice, audio_config)"
   ]
  },
  {
   "cell_type": "code",
   "execution_count": 283,
   "id": "d6580d99",
   "metadata": {},
   "outputs": [
    {
     "name": "stdout",
     "output_type": "stream",
     "text": [
      "Generate audio => output_v7.mp3\n"
     ]
    },
    {
     "data": {
      "text/plain": [
       "1"
      ]
     },
     "execution_count": 283,
     "metadata": {},
     "output_type": "execute_result"
    }
   ],
   "source": [
    "voice = texttospeech.VoiceSelectionParams(\n",
    "    language_code=\"en-IN\",\n",
    "    name=\"en-IN-Standard-C\",\n",
    "    ssml_gender=texttospeech.SsmlVoiceGender.MALE,\n",
    ")\n",
    "\n",
    "audio_config = texttospeech.AudioConfig(\n",
    "    audio_encoding=texttospeech.AudioEncoding.MP3,\n",
    "    speaking_rate=1\n",
    ")\n",
    "test_tta.synthesize_ssml(text, \"output_v7.mp3\", voice, audio_config)"
   ]
  },
  {
   "cell_type": "code",
   "execution_count": 27,
   "id": "a5936210",
   "metadata": {},
   "outputs": [
    {
     "name": "stdout",
     "output_type": "stream",
     "text": [
      "\n",
      "CHAPTER 1. \n",
      "CHAPTER 2. \n",
      "CHAPTER 3. \n",
      "CHAPTER 4. \n",
      "CHAPTER 5. \n",
      "CHAPTER 6. \n",
      "CHAPTER 7. \n",
      "CHAPTER 8. \n",
      "CHAPTER 9. \n",
      "CHAPTER 10. \n",
      "CHAPTER 11. \n",
      "CHAPTER 12. \n",
      "CHAPTER 13. \n",
      "CHAPTER 14. \n",
      "CHAPTER 15. \n",
      "CHAPTER 16. \n",
      "CHAPTER 17. \n",
      "CHAPTER 18. \n",
      "CHAPTER 19. \n",
      "CHAPTER 20. \n",
      "CHAPTER 21. \n",
      "CHAPTER 22. \n",
      "CHAPTER 23. \n",
      "CHAPTER 24. \n",
      "CHAPTER 25. \n",
      "CHAPTER 26. \n",
      "CHAPTER 27. \n",
      "\n"
     ]
    }
   ],
   "source": [
    "text = '''\n",
    "CHAPTER I. \n",
    "CHAPTER II. \n",
    "CHAPTER III. \n",
    "CHAPTER IV. \n",
    "CHAPTER V. \n",
    "CHAPTER VI. \n",
    "CHAPTER VII. \n",
    "CHAPTER VIII. \n",
    "CHAPTER IX. \n",
    "CHAPTER X. \n",
    "CHAPTER XI. \n",
    "CHAPTER XII. \n",
    "CHAPTER XIII. \n",
    "CHAPTER XIV. \n",
    "CHAPTER XV. \n",
    "CHAPTER XVI. \n",
    "CHAPTER XVII. \n",
    "CHAPTER XVIII. \n",
    "CHAPTER XIX. \n",
    "CHAPTER XX. \n",
    "CHAPTER XXI. \n",
    "CHAPTER XXII. \n",
    "CHAPTER XXIII. \n",
    "CHAPTER XXIV. \n",
    "CHAPTER XXV. \n",
    "CHAPTER XXVI. \n",
    "CHAPTER 27. \n",
    "'''\n",
    "print(test_tta.clean_roman_num_in_string(text))"
   ]
  },
  {
   "cell_type": "code",
   "execution_count": null,
   "id": "e8db79a9",
   "metadata": {},
   "outputs": [],
   "source": []
  }
 ],
 "metadata": {
  "kernelspec": {
   "display_name": "Python tts env",
   "language": "python",
   "name": "tts_env"
  },
  "language_info": {
   "codemirror_mode": {
    "name": "ipython",
    "version": 3
   },
   "file_extension": ".py",
   "mimetype": "text/x-python",
   "name": "python",
   "nbconvert_exporter": "python",
   "pygments_lexer": "ipython3",
   "version": "3.9.12"
  }
 },
 "nbformat": 4,
 "nbformat_minor": 5
}
