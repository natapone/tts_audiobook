{
 "cells": [
  {
   "cell_type": "markdown",
   "id": "f6ad255c",
   "metadata": {},
   "source": [
    "Steps\n",
    "- fetch full text file\n",
    "- clean unreadable string eg Roman number\n",
    "- tag SSML\n",
    "- insert chapter break\n",
    "- insert charactor limit break\n",
    "- split into small files per api call\n",
    "- convert with tts service\n",
    "- fix each file to improve reading"
   ]
  },
  {
   "cell_type": "code",
   "execution_count": 132,
   "id": "0d0778d6",
   "metadata": {},
   "outputs": [
    {
     "name": "stdout",
     "output_type": "stream",
     "text": [
      "The autoreload extension is already loaded. To reload it, use:\n",
      "  %reload_ext autoreload\n"
     ]
    }
   ],
   "source": [
    "%load_ext autoreload\n",
    "%reload_ext autoreload\n",
    "%autoreload 2"
   ]
  },
  {
   "cell_type": "code",
   "execution_count": 232,
   "id": "e763cc3d",
   "metadata": {},
   "outputs": [
    {
     "name": "stdout",
     "output_type": "stream",
     "text": [
      "CHAPTER 1. CHAPTER 23.\n",
      "CHAPTER I CHAPTER XXIII\n",
      "True\n",
      "True\n",
      "True\n",
      "8\n",
      "True\n",
      "[[-header_begin-]]CHAPTER I.[[-header_end-]]\n",
      "<prosody rate=\"slow\" pitch=\"-2st\">CHAPTER I.</prosody>\n",
      "[[-break_weak-]]\n",
      "\n",
      "<break time=\"500ms\"/>\n",
      "\n",
      "xxx [[-emphasis_strong-]]Faith?[[-emphasis_end-]] muttered [[-emphasis_strong-]]Faith![[-emphasis_end-]] Passepartout\n",
      "xxx <emphasis level=\"strong\">Faith?</emphasis> muttered <emphasis level=\"strong\">Faith!</emphasis> Passepartout\n",
      "[[-emphasis_moderate-]]You are a Frenchman I believe[[-emphasis_end-]] asked Phileas Fogg, [[-emphasis_strong-]]and your name is John?[[-emphasis_end-]]\n",
      "<emphasis level=\"moderate\">You are a Frenchman I believe</emphasis> asked Phileas Fogg, <emphasis level=\"strong\">and your name is John?</emphasis>\n",
      "[[-emphasis_moderate-]]my name is John[[-emphasis_end-]] I said, [[-emphasis_moderate-]]my name is John[[-emphasis_end-]]\n",
      "<emphasis level=\"moderate\">my name is John</emphasis> I said, <emphasis level=\"moderate\">my name is John</emphasis>\n",
      "[[-title_begin-]]Title: Around the World in Eighty Days[[-title_end-]]\n",
      "<prosody rate=\"slow\" pitch=\"-2st\">Title: Around the World in Eighty Days</prosody>\n",
      "[[-title_begin-]]Author: Jules Verne[[-title_end-]]\n",
      "<prosody rate=\"slow\" pitch=\"-2st\">Author: Jules Verne</prosody>\n",
      "test_text_txt\n"
     ]
    }
   ],
   "source": [
    "from TextToAudiobook import *\n",
    "\n",
    "test_tta = TextToAudiobook(\"test\")\n",
    "\n",
    "# read raw file\n",
    "# print(test_tta.read_txt_raw(\"test_text.txt\"))\n",
    "\n",
    "# Clean roman numbers\n",
    "text = \"CHAPTER I. CHAPTER XXIII.\"\n",
    "print(test_tta.clean_roman_num_in_string(text))\n",
    "\n",
    "# Not convert without fullstop\n",
    "text = \"CHAPTER I CHAPTER XXIII\"\n",
    "print(test_tta.clean_roman_num_in_string(text))\n",
    "\n",
    "# Insert chapter break\n",
    "text = \"CHAPTER 23.\"\n",
    "print(test_tta.is_chapter_header(text))\n",
    "\n",
    "text = \"CHAPTER XII.\"\n",
    "print(test_tta.is_chapter_header(text))\n",
    "\n",
    "text = \"[[-header_begin-]]CHAPTER 2.[[-header_end-]]\"\n",
    "print(test_tta.is_chapter_header(text))\n",
    "\n",
    "# Insert charactor limit break\n",
    "text = \"“Faith,” muttered Passepartout, somewhat flurried, “I’ve seen people at\"\n",
    "print(test_tta.get_line_break(text))\n",
    "\n",
    "# Check Book title\n",
    "text = \"Title: Around the World in Eighty Days\"\n",
    "print(test_tta.is_book_title(text))\n",
    "\n",
    "# tags\n",
    "# - Header\n",
    "# - new paragraph break\n",
    "# - emphasis strong\n",
    "# - emphasis mid\n",
    "\n",
    "text = \"CHAPTER I.\"\n",
    "text = test_tta.insert_tag_header(text)\n",
    "print(text)\n",
    "text = test_tta.replace_tag_ssml(text)\n",
    "print(text)\n",
    "\n",
    "text = \"\\n\"\n",
    "text = test_tta.insert_tag_paragraph_break(text)\n",
    "print(text)\n",
    "text = test_tta.replace_tag_ssml(text)\n",
    "print(text)\n",
    "\n",
    "text = 'xxx “Faith?,” muttered \"Faith!\" Passepartout'\n",
    "text = test_tta.insert_tag_emphasis(text)\n",
    "print(text)\n",
    "text = test_tta.replace_tag_ssml(text)\n",
    "print(text)\n",
    "\n",
    "text = '“You are a Frenchman, I believe,” asked Phileas Fogg, “and your name is John?”'\n",
    "text = test_tta.insert_tag_emphasis(text)\n",
    "print(text)\n",
    "text = test_tta.replace_tag_ssml(text)\n",
    "print(text)\n",
    "\n",
    "text = '\"my name is John\" I said, \"my name is John\"'\n",
    "text = test_tta.insert_tag_emphasis(text)\n",
    "print(text)\n",
    "text = test_tta.replace_tag_ssml(text)\n",
    "print(text)\n",
    "\n",
    "text = 'Title: Around the World in Eighty Days'\n",
    "text = test_tta.insert_tag_title(text)\n",
    "print(text)\n",
    "text = test_tta.replace_tag_ssml(text)\n",
    "print(text)\n",
    "\n",
    "text = 'Author: Jules Verne'\n",
    "text = test_tta.insert_tag_title(text)\n",
    "print(text)\n",
    "text = test_tta.replace_tag_ssml(text)\n",
    "print(text)\n",
    "\n",
    "file_name = \"test_text.txt\"\n",
    "print(test_tta.file_to_folder_name(file_name))"
   ]
  },
  {
   "cell_type": "code",
   "execution_count": 233,
   "id": "f5e69ca1",
   "metadata": {},
   "outputs": [
    {
     "name": "stdout",
     "output_type": "stream",
     "text": [
      "Clean: 41 lines\n",
      "./test/project_file/clean/test_text.txt\n"
     ]
    }
   ],
   "source": [
    "# Clean raw file and copy to clean folder\n",
    "print(test_tta.clean_txt_raw(\"test_text.txt\"))"
   ]
  },
  {
   "cell_type": "code",
   "execution_count": 234,
   "id": "201a2c02",
   "metadata": {},
   "outputs": [
    {
     "name": "stdout",
     "output_type": "stream",
     "text": [
      "Tag: 41 lines\n",
      "./test/project_file/tag/test_text.txt\n"
     ]
    }
   ],
   "source": [
    "# Tag speech in clean file and copy to tag folder\n",
    "print(test_tta.tag_txt_clean(\"test_text.txt\"))"
   ]
  },
  {
   "cell_type": "code",
   "execution_count": 235,
   "id": "92f76be0",
   "metadata": {},
   "outputs": [
    {
     "name": "stdout",
     "output_type": "stream",
     "text": [
      "Break: 41 lines\n",
      "./test/project_file/break/test_text.txt\n"
     ]
    }
   ],
   "source": [
    "# Mark break point by chapter and characters limit\n",
    "print(test_tta.break_txt_tag(\"test_text.txt\"))"
   ]
  },
  {
   "cell_type": "code",
   "execution_count": 236,
   "id": "dced7c4e",
   "metadata": {},
   "outputs": [
    {
     "name": "stdout",
     "output_type": "stream",
     "text": [
      "Split: 6 files\n",
      "./test/project_file/split/test_text_txt/\n"
     ]
    }
   ],
   "source": [
    "# Split into files by chapter and characters break\n",
    "print(test_tta.split_txt_break(\"test_text.txt\"))"
   ]
  },
  {
   "cell_type": "code",
   "execution_count": 237,
   "id": "ef05ea27",
   "metadata": {},
   "outputs": [
    {
     "name": "stdout",
     "output_type": "stream",
     "text": [
      "Generate audio => ./test/project_file/audio/test_text_txt/0000_001.mp3\n",
      "Generate audio => ./test/project_file/audio/test_text_txt/0001_001.mp3\n",
      "Generate audio => ./test/project_file/audio/test_text_txt/0002_001.mp3\n",
      "Generate audio => ./test/project_file/audio/test_text_txt/0002_002.mp3\n",
      "Generate audio => ./test/project_file/audio/test_text_txt/0003_001.mp3\n",
      "Generate audio => ./test/project_file/audio/test_text_txt/0004_001.mp3\n",
      "Synthesize: 6 files\n",
      "./test/project_file/audio/test_text_txt/\n"
     ]
    }
   ],
   "source": [
    "# Split into files by chapter and characters break\n",
    "print(test_tta.synthesize_txt_split(\"test_text.txt\"))"
   ]
  },
  {
   "cell_type": "code",
   "execution_count": 161,
   "id": "bb7fb7a6",
   "metadata": {},
   "outputs": [
    {
     "name": "stdout",
     "output_type": "stream",
     "text": [
      "Audio content written to file \"output.mp3\"\n"
     ]
    },
    {
     "data": {
      "text/plain": [
       "1"
      ]
     },
     "execution_count": 161,
     "metadata": {},
     "output_type": "execute_result"
    }
   ],
   "source": [
    "from TextToAudiobook import *\n",
    "test_tta = TextToAudiobook(\"test\")\n",
    "\n",
    "text = '''\n",
    "<speak>\n",
    "<prosody rate=\"slow\" pitch=\"-2st\">Title: Around the World in Eighty Days</prosody>\n",
    "<break strength=\"weak\"/>\n",
    "<prosody rate=\"slow\" pitch=\"-2st\">Author: Jules Verne</prosody>\n",
    "<break time=\"500ms\" strength=\"weak\"/>\n",
    "<break time=\"500ms\"/>\n",
    "<prosody rate=\"slow\" pitch=\"-2st\">CHAPTER 1.</prosody>\n",
    "IN WHICH Phileas Fogg AND PASSEPARTOUT ACCEPT EACH OTHER, THE ONE AS\n",
    "MASTER, THE OTHER AS MAN\n",
    "<break time=\"500ms\"/>\n",
    "<break time=\"500ms\"/>\n",
    "Mr. Phileas Fogg lived, in 1872, at No. 7, Saville Row, Burlington\n",
    "Gardens, the house in which Sheridan died in 1814. He was one of the\n",
    "most noticeable members of the Reform Club, though he seemed always to\n",
    "avoid attracting attention;\n",
    "<break time=\"500ms\"/>\n",
    "</speak>\n",
    "'''\n",
    "test_tta.synthesize_ssml(text, \"output.mp3\")\n"
   ]
  },
  {
   "cell_type": "code",
   "execution_count": null,
   "id": "04e71c4b",
   "metadata": {},
   "outputs": [],
   "source": []
  }
 ],
 "metadata": {
  "kernelspec": {
   "display_name": "Python 3 (ipykernel)",
   "language": "python",
   "name": "python3"
  },
  "language_info": {
   "codemirror_mode": {
    "name": "ipython",
    "version": 3
   },
   "file_extension": ".py",
   "mimetype": "text/x-python",
   "name": "python",
   "nbconvert_exporter": "python",
   "pygments_lexer": "ipython3",
   "version": "3.9.12"
  }
 },
 "nbformat": 4,
 "nbformat_minor": 5
}
