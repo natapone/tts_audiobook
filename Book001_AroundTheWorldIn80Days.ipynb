{
 "cells": [
  {
   "cell_type": "markdown",
   "id": "52035b7f",
   "metadata": {},
   "source": [
    "Source: https://www.gutenberg.org/ebooks/103\n",
    "\n",
    "Note: \n",
    "Youtube channel: The Classic Narrator\n",
    "https://www.youtube.com/@theclassicnarrator6788\n",
    "\n",
    "Slogan: Bringing literature to life with the power of AI narrator\n",
    "\n",
    "Description:\n",
    "Welcome to The Classic Narrator, where we bring timeless literature to a new audience through text-to-speech narration. Our channel features a diverse selection of classic novels, poems, and plays, expertly narrated to bring the words to life. Whether you're a literature lover or just looking for something new to listen to, we've got you covered. So sit back, relax, and let us take you on a journey through the greatest works of literature.\n",
    "\n",
    "Logo by MidJourney\n",
    "Classic book narrator white background logo style\n",
    "\n",
    "Google Cloud Console\n",
    "https://console.cloud.google.com/home/dashboard?project=tts-audiobook-2023\n"
   ]
  },
  {
   "cell_type": "code",
   "execution_count": 96,
   "id": "b5826ad0",
   "metadata": {},
   "outputs": [
    {
     "name": "stdout",
     "output_type": "stream",
     "text": [
      "The autoreload extension is already loaded. To reload it, use:\n",
      "  %reload_ext autoreload\n"
     ]
    }
   ],
   "source": [
    "%load_ext autoreload\n",
    "%reload_ext autoreload\n",
    "%autoreload 2"
   ]
  },
  {
   "cell_type": "code",
   "execution_count": 97,
   "id": "cd7a2fd2",
   "metadata": {},
   "outputs": [],
   "source": [
    "from TextToAudiobook import *\n",
    "\n",
    "test_tta = TextToAudiobook(\"AroundTheWorldIn80Days\", char_limit_per_call=4000)\n",
    "file_name = \"103-1.txt\""
   ]
  },
  {
   "cell_type": "code",
   "execution_count": 98,
   "id": "e4af336c",
   "metadata": {},
   "outputs": [
    {
     "name": "stdout",
     "output_type": "stream",
     "text": [
      "Clean: 7864 lines\n",
      "./AroundTheWorldIn80Days/project_file/clean/103-1.txt\n"
     ]
    }
   ],
   "source": [
    "# Clean raw file and copy to clean folder\n",
    "print(test_tta.clean_txt_raw(file_name))"
   ]
  },
  {
   "cell_type": "code",
   "execution_count": 99,
   "id": "00e0cf71",
   "metadata": {},
   "outputs": [
    {
     "name": "stdout",
     "output_type": "stream",
     "text": [
      "Tag: 7864 lines\n",
      "./AroundTheWorldIn80Days/project_file/tag/103-1.txt\n"
     ]
    }
   ],
   "source": [
    "# Tag speech in clean file and copy to tag folder\n",
    "print(test_tta.tag_txt_clean(file_name))"
   ]
  },
  {
   "cell_type": "code",
   "execution_count": 100,
   "id": "e59a7b9c",
   "metadata": {},
   "outputs": [
    {
     "name": "stdout",
     "output_type": "stream",
     "text": [
      "Break: 7864 lines\n",
      "./AroundTheWorldIn80Days/project_file/break/103-1.txt\n"
     ]
    }
   ],
   "source": [
    "# Mark break point by chapter and characters limit\n",
    "print(test_tta.break_txt_tag(file_name))"
   ]
  },
  {
   "cell_type": "code",
   "execution_count": 101,
   "id": "f909cf82",
   "metadata": {},
   "outputs": [
    {
     "name": "stdout",
     "output_type": "stream",
     "text": [
      "Split: 127 files\n",
      "./AroundTheWorldIn80Days/project_file/split/103-1_txt/\n"
     ]
    }
   ],
   "source": [
    "# Split into files by chapter and characters break\n",
    "print(test_tta.split_txt_break(file_name))"
   ]
  },
  {
   "cell_type": "code",
   "execution_count": 105,
   "id": "dc07308a",
   "metadata": {},
   "outputs": [
    {
     "name": "stdout",
     "output_type": "stream",
     "text": [
      "Generate audio => ./AroundTheWorldIn80Days/project_file/audio/103-1_txt/0032_001.mp3\n",
      "Generate audio => ./AroundTheWorldIn80Days/project_file/audio/103-1_txt/0032_002.mp3\n",
      "Generate audio => ./AroundTheWorldIn80Days/project_file/audio/103-1_txt/0032_003.mp3\n",
      "Generate audio => ./AroundTheWorldIn80Days/project_file/audio/103-1_txt/0033_001.mp3\n",
      "Generate audio => ./AroundTheWorldIn80Days/project_file/audio/103-1_txt/0033_002.mp3\n",
      "Generate audio => ./AroundTheWorldIn80Days/project_file/audio/103-1_txt/0033_003.mp3\n",
      "Generate audio => ./AroundTheWorldIn80Days/project_file/audio/103-1_txt/0033_004.mp3\n",
      "Generate audio => ./AroundTheWorldIn80Days/project_file/audio/103-1_txt/0033_005.mp3\n",
      "Generate audio => ./AroundTheWorldIn80Days/project_file/audio/103-1_txt/0034_001.mp3\n",
      "Generate audio => ./AroundTheWorldIn80Days/project_file/audio/103-1_txt/0034_002.mp3\n",
      "Generate audio => ./AroundTheWorldIn80Days/project_file/audio/103-1_txt/0035_001.mp3\n",
      "Generate audio => ./AroundTheWorldIn80Days/project_file/audio/103-1_txt/0035_002.mp3\n",
      "Generate audio => ./AroundTheWorldIn80Days/project_file/audio/103-1_txt/0035_003.mp3\n",
      "Generate audio => ./AroundTheWorldIn80Days/project_file/audio/103-1_txt/0036_001.mp3\n",
      "Generate audio => ./AroundTheWorldIn80Days/project_file/audio/103-1_txt/0036_002.mp3\n",
      "Generate audio => ./AroundTheWorldIn80Days/project_file/audio/103-1_txt/0037_001.mp3\n",
      "Generate audio => ./AroundTheWorldIn80Days/project_file/audio/103-1_txt/0037_002.mp3\n",
      "Synthesize: 17 files\n",
      "./AroundTheWorldIn80Days/project_file/audio/103-1_txt/\n"
     ]
    }
   ],
   "source": [
    "# Split into files by chapter and characters break\n",
    "voice = texttospeech.VoiceSelectionParams(\n",
    "    language_code=\"en-GB\",\n",
    "    name=\"en-GB-News-K\",\n",
    "    ssml_gender=texttospeech.SsmlVoiceGender.MALE,\n",
    ")\n",
    "\n",
    "audio_config = texttospeech.AudioConfig(\n",
    "    audio_encoding=texttospeech.AudioEncoding.MP3,\n",
    "    speaking_rate=0.8\n",
    ")\n",
    "print(test_tta.synthesize_txt_split(file_name, file_limit=50, voice=voice, audio_config=audio_config))\n"
   ]
  },
  {
   "cell_type": "markdown",
   "id": "e75e7b40",
   "metadata": {},
   "source": [
    "Around the World in Eighty Days, an adventure novel by the French writer Jules Verne, first published in French in 1872.\n",
    "\n",
    "In the story: Phileas Fogg of London and his newly employed French valet Passepartout attempt to travel around the world in 80 days on a wager of £20,000 set by his friends at the Reform Club.\n",
    "\n",
    "Credits\n",
    "Text: Project Gutenberg https://www.gutenberg.org/ebooks/103\n",
    "Voice: Google Cloud Text-to-Speech\n",
    "Produced by: The Classic Narrator 2023\n",
    "\n",
    "====\n",
    "\n",
    "Title: \"Around the World in 80 Days - Full Audiobook\"\n",
    "\n",
    "Description: \"\n",
    "Join Phileas Fogg and his valet Passepartout on their journey to circumnavigate the globe in just 80 days. This classic adventure novel by Jules Verne is brought to life by AI narrator in this audiobook version. Follow their adventures as they travel by train, boat, and even elephant, facing obstacles and challenges at every turn. Perfect for long car rides or commutes, this audiobook is sure to keep you on the edge of your seat.\n",
    "\n",
    "Credits\n",
    "Text: Project Gutenberg https://www.gutenberg.org/ebooks/103\n",
    "Voice: Google Cloud Text-to-Speech\n",
    "Produced by: The Classic Narrator 2023\n",
    "\n",
    "\"\n",
    "\n",
    "Keywords: \"Around the World in 80 Days, Jules Verne, audiobook, full cast, adventure, Phileas Fogg, Passepartout, travel, train, boat, elephant, classic literature, long car rides, commutes\"\n",
    "\n",
    "Around the World in 80 Days, Jules Verne, audiobook, adventure, travel, train, boat, elephant, classic literature, long car rides\n"
   ]
  },
  {
   "cell_type": "code",
   "execution_count": null,
   "id": "fa6df99c",
   "metadata": {},
   "outputs": [],
   "source": []
  }
 ],
 "metadata": {
  "kernelspec": {
   "display_name": "Python 3 (ipykernel)",
   "language": "python",
   "name": "python3"
  },
  "language_info": {
   "codemirror_mode": {
    "name": "ipython",
    "version": 3
   },
   "file_extension": ".py",
   "mimetype": "text/x-python",
   "name": "python",
   "nbconvert_exporter": "python",
   "pygments_lexer": "ipython3",
   "version": "3.9.12"
  }
 },
 "nbformat": 4,
 "nbformat_minor": 5
}
