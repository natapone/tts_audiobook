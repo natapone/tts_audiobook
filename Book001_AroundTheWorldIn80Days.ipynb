{
 "cells": [
  {
   "cell_type": "markdown",
   "id": "52035b7f",
   "metadata": {},
   "source": [
    "Source: https://www.gutenberg.org/ebooks/103\n",
    "\n",
    "Note: \n",
    "Youtube channel: The Classic Narrator\n",
    "https://www.youtube.com/@theclassicnarrator6788\n",
    "\n",
    "Slogan: Bringing literature to life with the power of AI narrator\n",
    "\n",
    "Description:\n",
    "Welcome to The Classic Narrator, where we bring timeless literature to a new audience through text-to-speech narration. Our channel features a diverse selection of classic novels, poems, and plays, expertly narrated to bring the words to life. Whether you're a literature lover or just looking for something new to listen to, we've got you covered. So sit back, relax, and let us take you on a journey through the greatest works of literature.\n",
    "\n",
    "Logo by MidJourney\n",
    "Classic book narrator white background logo style\n",
    "\n",
    "Google Cloud Console\n",
    "https://console.cloud.google.com/home/dashboard?project=tts-audiobook-2023\n"
   ]
  },
  {
   "cell_type": "code",
   "execution_count": 2,
   "id": "b5826ad0",
   "metadata": {},
   "outputs": [],
   "source": [
    "%load_ext autoreload\n",
    "%reload_ext autoreload\n",
    "%autoreload 2"
   ]
  },
  {
   "cell_type": "code",
   "execution_count": 3,
   "id": "cd7a2fd2",
   "metadata": {},
   "outputs": [],
   "source": [
    "from TextToAudiobook import *\n",
    "\n",
    "test_tta = TextToAudiobook(\"AroundTheWorldIn80Days\", char_limit_per_call=4000)\n",
    "file_name = \"103-1.txt\""
   ]
  },
  {
   "cell_type": "code",
   "execution_count": 98,
   "id": "e4af336c",
   "metadata": {},
   "outputs": [
    {
     "name": "stdout",
     "output_type": "stream",
     "text": [
      "Clean: 7864 lines\n",
      "./AroundTheWorldIn80Days/project_file/clean/103-1.txt\n"
     ]
    }
   ],
   "source": [
    "# Clean raw file and copy to clean folder\n",
    "print(test_tta.clean_txt_raw(file_name))"
   ]
  },
  {
   "cell_type": "code",
   "execution_count": 99,
   "id": "00e0cf71",
   "metadata": {},
   "outputs": [
    {
     "name": "stdout",
     "output_type": "stream",
     "text": [
      "Tag: 7864 lines\n",
      "./AroundTheWorldIn80Days/project_file/tag/103-1.txt\n"
     ]
    }
   ],
   "source": [
    "# Tag speech in clean file and copy to tag folder\n",
    "print(test_tta.tag_txt_clean(file_name))"
   ]
  },
  {
   "cell_type": "code",
   "execution_count": 100,
   "id": "e59a7b9c",
   "metadata": {},
   "outputs": [
    {
     "name": "stdout",
     "output_type": "stream",
     "text": [
      "Break: 7864 lines\n",
      "./AroundTheWorldIn80Days/project_file/break/103-1.txt\n"
     ]
    }
   ],
   "source": [
    "# Mark break point by chapter and characters limit\n",
    "print(test_tta.break_txt_tag(file_name))"
   ]
  },
  {
   "cell_type": "code",
   "execution_count": 101,
   "id": "f909cf82",
   "metadata": {},
   "outputs": [
    {
     "name": "stdout",
     "output_type": "stream",
     "text": [
      "Split: 127 files\n",
      "./AroundTheWorldIn80Days/project_file/split/103-1_txt/\n"
     ]
    }
   ],
   "source": [
    "# Split into files by chapter and characters break\n",
    "print(test_tta.split_txt_break(file_name))"
   ]
  },
  {
   "cell_type": "code",
   "execution_count": 105,
   "id": "dc07308a",
   "metadata": {},
   "outputs": [
    {
     "name": "stdout",
     "output_type": "stream",
     "text": [
      "Generate audio => ./AroundTheWorldIn80Days/project_file/audio/103-1_txt/0032_001.mp3\n",
      "Generate audio => ./AroundTheWorldIn80Days/project_file/audio/103-1_txt/0032_002.mp3\n",
      "Generate audio => ./AroundTheWorldIn80Days/project_file/audio/103-1_txt/0032_003.mp3\n",
      "Generate audio => ./AroundTheWorldIn80Days/project_file/audio/103-1_txt/0033_001.mp3\n",
      "Generate audio => ./AroundTheWorldIn80Days/project_file/audio/103-1_txt/0033_002.mp3\n",
      "Generate audio => ./AroundTheWorldIn80Days/project_file/audio/103-1_txt/0033_003.mp3\n",
      "Generate audio => ./AroundTheWorldIn80Days/project_file/audio/103-1_txt/0033_004.mp3\n",
      "Generate audio => ./AroundTheWorldIn80Days/project_file/audio/103-1_txt/0033_005.mp3\n",
      "Generate audio => ./AroundTheWorldIn80Days/project_file/audio/103-1_txt/0034_001.mp3\n",
      "Generate audio => ./AroundTheWorldIn80Days/project_file/audio/103-1_txt/0034_002.mp3\n",
      "Generate audio => ./AroundTheWorldIn80Days/project_file/audio/103-1_txt/0035_001.mp3\n",
      "Generate audio => ./AroundTheWorldIn80Days/project_file/audio/103-1_txt/0035_002.mp3\n",
      "Generate audio => ./AroundTheWorldIn80Days/project_file/audio/103-1_txt/0035_003.mp3\n",
      "Generate audio => ./AroundTheWorldIn80Days/project_file/audio/103-1_txt/0036_001.mp3\n",
      "Generate audio => ./AroundTheWorldIn80Days/project_file/audio/103-1_txt/0036_002.mp3\n",
      "Generate audio => ./AroundTheWorldIn80Days/project_file/audio/103-1_txt/0037_001.mp3\n",
      "Generate audio => ./AroundTheWorldIn80Days/project_file/audio/103-1_txt/0037_002.mp3\n",
      "Synthesize: 17 files\n",
      "./AroundTheWorldIn80Days/project_file/audio/103-1_txt/\n"
     ]
    }
   ],
   "source": [
    "# Split into files by chapter and characters break\n",
    "voice = texttospeech.VoiceSelectionParams(\n",
    "    language_code=\"en-GB\",\n",
    "    name=\"en-GB-News-K\",\n",
    "    ssml_gender=texttospeech.SsmlVoiceGender.MALE,\n",
    ")\n",
    "\n",
    "audio_config = texttospeech.AudioConfig(\n",
    "    audio_encoding=texttospeech.AudioEncoding.MP3,\n",
    "    speaking_rate=0.8\n",
    ")\n",
    "print(test_tta.synthesize_txt_split(file_name, file_limit=50, voice=voice, audio_config=audio_config))\n"
   ]
  },
  {
   "cell_type": "markdown",
   "id": "e75e7b40",
   "metadata": {},
   "source": [
    "Around the World in Eighty Days, an adventure novel by the French writer Jules Verne, first published in French in 1872.\n",
    "\n",
    "In the story: Phileas Fogg of London and his newly employed French valet Passepartout attempt to travel around the world in 80 days on a wager of £20,000 set by his friends at the Reform Club.\n",
    "\n",
    "Credits\n",
    "Text: Project Gutenberg https://www.gutenberg.org/ebooks/103\n",
    "Voice: Google Cloud Text-to-Speech\n",
    "Produced by: The Classic Narrator 2023\n",
    "\n",
    "====\n",
    "\n",
    "Title: \"Around the World in 80 Days - Full Audiobook\"\n",
    "\n",
    "Description: \"\n",
    "Join Phileas Fogg and his valet Passepartout on their journey to circumnavigate the globe in just 80 days. This classic adventure novel by Jules Verne is brought to life by AI narrator in this audiobook version. Follow their adventures as they travel by train, boat, and even elephant, facing obstacles and challenges at every turn. Perfect for long car rides or commutes, this audiobook is sure to keep you on the edge of your seat.\n",
    "\n",
    "Credits\n",
    "Text: Project Gutenberg https://www.gutenberg.org/ebooks/103\n",
    "Voice: Google Cloud Text-to-Speech\n",
    "Produced by: The Classic Narrator 2023\n",
    "\n",
    "\"\n",
    "\n",
    "Keywords: \"Around the World in 80 Days, Jules Verne, audiobook, full cast, adventure, Phileas Fogg, Passepartout, travel, train, boat, elephant, classic literature, long car rides, commutes\"\n",
    "\n",
    "Around the World in 80 Days, Jules Verne, audiobook, adventure, travel, train, boat, elephant, classic literature, long car rides\n"
   ]
  },
  {
   "cell_type": "code",
   "execution_count": 5,
   "id": "fa6df99c",
   "metadata": {},
   "outputs": [
    {
     "name": "stdout",
     "output_type": "stream",
     "text": [
      "0:00:00 Chapter 1\n",
      "0:08:59 Chaptor 2\n",
      "0:15:51 Chaptor 3\n",
      "0:28:11 Chaptor 4\n",
      "0:34:26 Chaptor 5\n",
      "0:40:08 Chaptor 6\n",
      "0:48:09 Chaptor 7\n",
      "0:53:09 Chaptor 8\n",
      "0:59:56 Chaptor 9\n",
      "1:09:33 Chaptor 10\n",
      "1:19:06 Chaptor 11\n",
      "1:34:54 Chaptor 12\n",
      "1:47:53 Chaptor 13\n",
      "2:00:08 Chaptor 14\n",
      "2:11:52 Chaptor 15\n",
      "2:23:28 Chaptor 16\n",
      "2:33:07 Chaptor 17\n",
      "2:43:45 Chaptor 18\n",
      "2:52:03 Chaptor 19\n",
      "3:05:10 Chaptor 20\n",
      "3:16:06 Chaptor 21\n",
      "3:31:29 Chaptor 22\n",
      "3:44:10 Chaptor 23\n",
      "3:56:10 Chaptor 24\n",
      "4:07:55 Chaptor 25\n",
      "4:20:20 Chaptor 26\n",
      "4:30:15 Chaptor 27\n",
      "4:42:24 Chaptor 28\n",
      "4:57:32 Chaptor 29\n",
      "5:10:39 Chaptor 30\n",
      "5:24:00 Chaptor 31\n",
      "5:35:11 Chaptor 32\n",
      "5:41:50 Chaptor 33\n",
      "5:56:57 Chaptor 34\n",
      "6:02:57 Chaptor 35\n",
      "6:12:32 Chaptor 36\n",
      "6:19:16 Chaptor 37\n"
     ]
    }
   ],
   "source": [
    "print(test_tta.gen_youtube_chapter_marker(file_name))"
   ]
  },
  {
   "cell_type": "code",
   "execution_count": null,
   "id": "333fc559",
   "metadata": {},
   "outputs": [],
   "source": []
  }
 ],
 "metadata": {
  "kernelspec": {
   "display_name": "Python tts env",
   "language": "python",
   "name": "tts_env"
  },
  "language_info": {
   "codemirror_mode": {
    "name": "ipython",
    "version": 3
   },
   "file_extension": ".py",
   "mimetype": "text/x-python",
   "name": "python",
   "nbconvert_exporter": "python",
   "pygments_lexer": "ipython3",
   "version": "3.9.12"
  }
 },
 "nbformat": 4,
 "nbformat_minor": 5
}
