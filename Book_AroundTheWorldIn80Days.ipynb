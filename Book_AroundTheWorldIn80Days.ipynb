{
 "cells": [
  {
   "cell_type": "markdown",
   "id": "e450deeb",
   "metadata": {},
   "source": [
    "Source: https://www.gutenberg.org/ebooks/103"
   ]
  },
  {
   "cell_type": "code",
   "execution_count": 21,
   "id": "78fb341b",
   "metadata": {},
   "outputs": [
    {
     "name": "stdout",
     "output_type": "stream",
     "text": [
      "The autoreload extension is already loaded. To reload it, use:\n",
      "  %reload_ext autoreload\n"
     ]
    }
   ],
   "source": [
    "%load_ext autoreload\n",
    "%reload_ext autoreload\n",
    "%autoreload 2"
   ]
  },
  {
   "cell_type": "code",
   "execution_count": 22,
   "id": "43e69a1d",
   "metadata": {},
   "outputs": [],
   "source": [
    "from TextToAudiobook import *\n",
    "\n",
    "test_tta = TextToAudiobook(\"AroundTheWorldIn80Days\")\n",
    "file_name = \"103-1.txt\""
   ]
  },
  {
   "cell_type": "code",
   "execution_count": 23,
   "id": "d4f60c79",
   "metadata": {},
   "outputs": [
    {
     "name": "stdout",
     "output_type": "stream",
     "text": [
      "Clean: 7882 lines\n",
      "./AroundTheWorldIn80Days/project_file/clean/103-1.txt\n"
     ]
    }
   ],
   "source": [
    "# Clean raw file and copy to clean folder\n",
    "print(test_tta.clean_txt_raw(file_name))"
   ]
  },
  {
   "cell_type": "code",
   "execution_count": 24,
   "id": "2a877586",
   "metadata": {},
   "outputs": [
    {
     "name": "stdout",
     "output_type": "stream",
     "text": [
      "Tag: 7882 lines\n",
      "./AroundTheWorldIn80Days/project_file/tag/103-1.txt\n"
     ]
    }
   ],
   "source": [
    "# Tag speech in clean file and copy to tag folder\n",
    "print(test_tta.tag_txt_clean(file_name))"
   ]
  },
  {
   "cell_type": "code",
   "execution_count": 25,
   "id": "c0a44db8",
   "metadata": {},
   "outputs": [
    {
     "name": "stdout",
     "output_type": "stream",
     "text": [
      "Break: 7882 lines\n",
      "./AroundTheWorldIn80Days/project_file/break/103-1.txt\n"
     ]
    }
   ],
   "source": [
    "# Mark break point by chapter and characters limit\n",
    "print(test_tta.break_txt_tag(file_name))"
   ]
  },
  {
   "cell_type": "code",
   "execution_count": 26,
   "id": "dc8d210a",
   "metadata": {},
   "outputs": [
    {
     "name": "stdout",
     "output_type": "stream",
     "text": [
      "Split: 161 files\n",
      "./AroundTheWorldIn80Days/project_file/split/103-1_txt/\n"
     ]
    }
   ],
   "source": [
    "# Split into files by chapter and characters break\n",
    "print(test_tta.split_txt_break(file_name))"
   ]
  },
  {
   "cell_type": "code",
   "execution_count": 27,
   "id": "f81287b4",
   "metadata": {},
   "outputs": [
    {
     "name": "stdout",
     "output_type": "stream",
     "text": [
      "Generate audio => ./AroundTheWorldIn80Days/project_file/audio/103-1_txt/0000_001.mp3\n",
      "Generate audio => ./AroundTheWorldIn80Days/project_file/audio/103-1_txt/0001_001.mp3\n",
      "Generate audio => ./AroundTheWorldIn80Days/project_file/audio/103-1_txt/0001_002.mp3\n",
      "Generate audio => ./AroundTheWorldIn80Days/project_file/audio/103-1_txt/0001_003.mp3\n",
      "Generate audio => ./AroundTheWorldIn80Days/project_file/audio/103-1_txt/0001_004.mp3\n",
      "Synthesize: 5 files\n",
      "./AroundTheWorldIn80Days/project_file/audio/103-1_txt/\n"
     ]
    }
   ],
   "source": [
    "# Split into files by chapter and characters break\n",
    "voice = texttospeech.VoiceSelectionParams(\n",
    "    language_code=\"en-GB\",\n",
    "    name=\"en-GB-News-K\",\n",
    "    ssml_gender=texttospeech.SsmlVoiceGender.MALE,\n",
    ")\n",
    "\n",
    "audio_config = texttospeech.AudioConfig(\n",
    "    audio_encoding=texttospeech.AudioEncoding.MP3,\n",
    "    speaking_rate=0.8\n",
    ")\n",
    "print(test_tta.synthesize_txt_split(file_name, file_limit=5, voice, audio_config)))"
   ]
  },
  {
   "cell_type": "code",
   "execution_count": null,
   "id": "09e0390c",
   "metadata": {},
   "outputs": [],
   "source": []
  }
 ],
 "metadata": {
  "kernelspec": {
   "display_name": "Python 3 (ipykernel)",
   "language": "python",
   "name": "python3"
  },
  "language_info": {
   "codemirror_mode": {
    "name": "ipython",
    "version": 3
   },
   "file_extension": ".py",
   "mimetype": "text/x-python",
   "name": "python",
   "nbconvert_exporter": "python",
   "pygments_lexer": "ipython3",
   "version": "3.9.12"
  }
 },
 "nbformat": 4,
 "nbformat_minor": 5
}
